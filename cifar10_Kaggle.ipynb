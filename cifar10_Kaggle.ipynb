{
  "metadata": {
    "kernelspec": {
      "name": "python3",
      "display_name": "Python 3"
    },
    "language_info": {
      "name": "python",
      "version": "3.10.13",
      "mimetype": "text/x-python",
      "codemirror_mode": {
        "name": "ipython",
        "version": 3
      },
      "pygments_lexer": "ipython3",
      "nbconvert_exporter": "python",
      "file_extension": ".py"
    },
    "kaggle": {
      "accelerator": "nvidiaTeslaT4",
      "dataSources": [],
      "dockerImageVersionId": 30665,
      "isInternetEnabled": true,
      "language": "python",
      "sourceType": "notebook",
      "isGpuEnabled": true
    },
    "colab": {
      "name": "cifar10_Kaggle",
      "provenance": [],
      "gpuType": "T4",
      "include_colab_link": true
    },
    "accelerator": "GPU"
  },
  "nbformat_minor": 0,
  "nbformat": 4,
  "cells": [
    {
      "cell_type": "markdown",
      "metadata": {
        "id": "view-in-github",
        "colab_type": "text"
      },
      "source": [
        "<a href=\"https://colab.research.google.com/github/flyinacres/GPU-tests/blob/main/cifar10_Kaggle.ipynb\" target=\"_parent\"><img src=\"https://colab.research.google.com/assets/colab-badge.svg\" alt=\"Open In Colab\"/></a>"
      ]
    },
    {
      "cell_type": "markdown",
      "source": [
        "Interesting recent GPU benchmarks (2022) which show the 1080Ti at about 1/5 the speed of the latest tech:\n",
        "\n",
        "https://lambdalabs.com/gpu-benchmarks\n",
        "\n",
        "Kaggle version where I can compare speeds to that of my CPU and GPU"
      ],
      "metadata": {
        "id": "9RhDlqOwu53U"
      }
    },
    {
      "cell_type": "code",
      "source": [
        "# installing/upgrading fastai2\n",
        "!pip install --upgrade fastai"
      ],
      "metadata": {
        "scrolled": true,
        "execution": {
          "iopub.status.busy": "2024-03-12T08:44:48.517598Z",
          "iopub.execute_input": "2024-03-12T08:44:48.518091Z",
          "iopub.status.idle": "2024-03-12T08:45:03.345553Z",
          "shell.execute_reply.started": "2024-03-12T08:44:48.518061Z",
          "shell.execute_reply": "2024-03-12T08:45:03.344484Z"
        },
        "trusted": true,
        "id": "DL226C0qu53Y",
        "outputId": "1dfb8f41-5d44-4769-acfc-b613cb0646f9",
        "colab": {
          "base_uri": "https://localhost:8080/"
        }
      },
      "execution_count": 1,
      "outputs": [
        {
          "output_type": "stream",
          "name": "stdout",
          "text": [
            "Requirement already satisfied: fastai in /usr/local/lib/python3.10/dist-packages (2.7.14)\n",
            "Requirement already satisfied: pip in /usr/local/lib/python3.10/dist-packages (from fastai) (23.1.2)\n",
            "Requirement already satisfied: packaging in /usr/local/lib/python3.10/dist-packages (from fastai) (23.2)\n",
            "Requirement already satisfied: fastdownload<2,>=0.0.5 in /usr/local/lib/python3.10/dist-packages (from fastai) (0.0.7)\n",
            "Requirement already satisfied: fastcore<1.6,>=1.5.29 in /usr/local/lib/python3.10/dist-packages (from fastai) (1.5.29)\n",
            "Requirement already satisfied: torchvision>=0.11 in /usr/local/lib/python3.10/dist-packages (from fastai) (0.16.0+cu121)\n",
            "Requirement already satisfied: matplotlib in /usr/local/lib/python3.10/dist-packages (from fastai) (3.7.1)\n",
            "Requirement already satisfied: pandas in /usr/local/lib/python3.10/dist-packages (from fastai) (1.5.3)\n",
            "Requirement already satisfied: requests in /usr/local/lib/python3.10/dist-packages (from fastai) (2.31.0)\n",
            "Requirement already satisfied: pyyaml in /usr/local/lib/python3.10/dist-packages (from fastai) (6.0.1)\n",
            "Requirement already satisfied: fastprogress>=0.2.4 in /usr/local/lib/python3.10/dist-packages (from fastai) (1.0.3)\n",
            "Requirement already satisfied: pillow>=9.0.0 in /usr/local/lib/python3.10/dist-packages (from fastai) (9.4.0)\n",
            "Requirement already satisfied: scikit-learn in /usr/local/lib/python3.10/dist-packages (from fastai) (1.2.2)\n",
            "Requirement already satisfied: scipy in /usr/local/lib/python3.10/dist-packages (from fastai) (1.11.4)\n",
            "Requirement already satisfied: spacy<4 in /usr/local/lib/python3.10/dist-packages (from fastai) (3.7.4)\n",
            "Requirement already satisfied: torch<2.3,>=1.10 in /usr/local/lib/python3.10/dist-packages (from fastai) (2.1.0+cu121)\n",
            "Requirement already satisfied: spacy-legacy<3.1.0,>=3.0.11 in /usr/local/lib/python3.10/dist-packages (from spacy<4->fastai) (3.0.12)\n",
            "Requirement already satisfied: spacy-loggers<2.0.0,>=1.0.0 in /usr/local/lib/python3.10/dist-packages (from spacy<4->fastai) (1.0.5)\n",
            "Requirement already satisfied: murmurhash<1.1.0,>=0.28.0 in /usr/local/lib/python3.10/dist-packages (from spacy<4->fastai) (1.0.10)\n",
            "Requirement already satisfied: cymem<2.1.0,>=2.0.2 in /usr/local/lib/python3.10/dist-packages (from spacy<4->fastai) (2.0.8)\n",
            "Requirement already satisfied: preshed<3.1.0,>=3.0.2 in /usr/local/lib/python3.10/dist-packages (from spacy<4->fastai) (3.0.9)\n",
            "Requirement already satisfied: thinc<8.3.0,>=8.2.2 in /usr/local/lib/python3.10/dist-packages (from spacy<4->fastai) (8.2.3)\n",
            "Requirement already satisfied: wasabi<1.2.0,>=0.9.1 in /usr/local/lib/python3.10/dist-packages (from spacy<4->fastai) (1.1.2)\n",
            "Requirement already satisfied: srsly<3.0.0,>=2.4.3 in /usr/local/lib/python3.10/dist-packages (from spacy<4->fastai) (2.4.8)\n",
            "Requirement already satisfied: catalogue<2.1.0,>=2.0.6 in /usr/local/lib/python3.10/dist-packages (from spacy<4->fastai) (2.0.10)\n",
            "Requirement already satisfied: weasel<0.4.0,>=0.1.0 in /usr/local/lib/python3.10/dist-packages (from spacy<4->fastai) (0.3.4)\n",
            "Requirement already satisfied: typer<0.10.0,>=0.3.0 in /usr/local/lib/python3.10/dist-packages (from spacy<4->fastai) (0.9.0)\n",
            "Requirement already satisfied: smart-open<7.0.0,>=5.2.1 in /usr/local/lib/python3.10/dist-packages (from spacy<4->fastai) (6.4.0)\n",
            "Requirement already satisfied: tqdm<5.0.0,>=4.38.0 in /usr/local/lib/python3.10/dist-packages (from spacy<4->fastai) (4.66.2)\n",
            "Requirement already satisfied: pydantic!=1.8,!=1.8.1,<3.0.0,>=1.7.4 in /usr/local/lib/python3.10/dist-packages (from spacy<4->fastai) (2.6.3)\n",
            "Requirement already satisfied: jinja2 in /usr/local/lib/python3.10/dist-packages (from spacy<4->fastai) (3.1.3)\n",
            "Requirement already satisfied: setuptools in /usr/local/lib/python3.10/dist-packages (from spacy<4->fastai) (67.7.2)\n",
            "Requirement already satisfied: langcodes<4.0.0,>=3.2.0 in /usr/local/lib/python3.10/dist-packages (from spacy<4->fastai) (3.3.0)\n",
            "Requirement already satisfied: numpy>=1.19.0 in /usr/local/lib/python3.10/dist-packages (from spacy<4->fastai) (1.25.2)\n",
            "Requirement already satisfied: charset-normalizer<4,>=2 in /usr/local/lib/python3.10/dist-packages (from requests->fastai) (3.3.2)\n",
            "Requirement already satisfied: idna<4,>=2.5 in /usr/local/lib/python3.10/dist-packages (from requests->fastai) (3.6)\n",
            "Requirement already satisfied: urllib3<3,>=1.21.1 in /usr/local/lib/python3.10/dist-packages (from requests->fastai) (2.0.7)\n",
            "Requirement already satisfied: certifi>=2017.4.17 in /usr/local/lib/python3.10/dist-packages (from requests->fastai) (2024.2.2)\n",
            "Requirement already satisfied: filelock in /usr/local/lib/python3.10/dist-packages (from torch<2.3,>=1.10->fastai) (3.13.1)\n",
            "Requirement already satisfied: typing-extensions in /usr/local/lib/python3.10/dist-packages (from torch<2.3,>=1.10->fastai) (4.10.0)\n",
            "Requirement already satisfied: sympy in /usr/local/lib/python3.10/dist-packages (from torch<2.3,>=1.10->fastai) (1.12)\n",
            "Requirement already satisfied: networkx in /usr/local/lib/python3.10/dist-packages (from torch<2.3,>=1.10->fastai) (3.2.1)\n",
            "Requirement already satisfied: fsspec in /usr/local/lib/python3.10/dist-packages (from torch<2.3,>=1.10->fastai) (2023.6.0)\n",
            "Requirement already satisfied: triton==2.1.0 in /usr/local/lib/python3.10/dist-packages (from torch<2.3,>=1.10->fastai) (2.1.0)\n",
            "Requirement already satisfied: contourpy>=1.0.1 in /usr/local/lib/python3.10/dist-packages (from matplotlib->fastai) (1.2.0)\n",
            "Requirement already satisfied: cycler>=0.10 in /usr/local/lib/python3.10/dist-packages (from matplotlib->fastai) (0.12.1)\n",
            "Requirement already satisfied: fonttools>=4.22.0 in /usr/local/lib/python3.10/dist-packages (from matplotlib->fastai) (4.49.0)\n",
            "Requirement already satisfied: kiwisolver>=1.0.1 in /usr/local/lib/python3.10/dist-packages (from matplotlib->fastai) (1.4.5)\n",
            "Requirement already satisfied: pyparsing>=2.3.1 in /usr/local/lib/python3.10/dist-packages (from matplotlib->fastai) (3.1.2)\n",
            "Requirement already satisfied: python-dateutil>=2.7 in /usr/local/lib/python3.10/dist-packages (from matplotlib->fastai) (2.8.2)\n",
            "Requirement already satisfied: pytz>=2020.1 in /usr/local/lib/python3.10/dist-packages (from pandas->fastai) (2023.4)\n",
            "Requirement already satisfied: joblib>=1.1.1 in /usr/local/lib/python3.10/dist-packages (from scikit-learn->fastai) (1.3.2)\n",
            "Requirement already satisfied: threadpoolctl>=2.0.0 in /usr/local/lib/python3.10/dist-packages (from scikit-learn->fastai) (3.3.0)\n",
            "Requirement already satisfied: annotated-types>=0.4.0 in /usr/local/lib/python3.10/dist-packages (from pydantic!=1.8,!=1.8.1,<3.0.0,>=1.7.4->spacy<4->fastai) (0.6.0)\n",
            "Requirement already satisfied: pydantic-core==2.16.3 in /usr/local/lib/python3.10/dist-packages (from pydantic!=1.8,!=1.8.1,<3.0.0,>=1.7.4->spacy<4->fastai) (2.16.3)\n",
            "Requirement already satisfied: six>=1.5 in /usr/local/lib/python3.10/dist-packages (from python-dateutil>=2.7->matplotlib->fastai) (1.16.0)\n",
            "Requirement already satisfied: blis<0.8.0,>=0.7.8 in /usr/local/lib/python3.10/dist-packages (from thinc<8.3.0,>=8.2.2->spacy<4->fastai) (0.7.11)\n",
            "Requirement already satisfied: confection<1.0.0,>=0.0.1 in /usr/local/lib/python3.10/dist-packages (from thinc<8.3.0,>=8.2.2->spacy<4->fastai) (0.1.4)\n",
            "Requirement already satisfied: click<9.0.0,>=7.1.1 in /usr/local/lib/python3.10/dist-packages (from typer<0.10.0,>=0.3.0->spacy<4->fastai) (8.1.7)\n",
            "Requirement already satisfied: cloudpathlib<0.17.0,>=0.7.0 in /usr/local/lib/python3.10/dist-packages (from weasel<0.4.0,>=0.1.0->spacy<4->fastai) (0.16.0)\n",
            "Requirement already satisfied: MarkupSafe>=2.0 in /usr/local/lib/python3.10/dist-packages (from jinja2->spacy<4->fastai) (2.1.5)\n",
            "Requirement already satisfied: mpmath>=0.19 in /usr/local/lib/python3.10/dist-packages (from sympy->torch<2.3,>=1.10->fastai) (1.3.0)\n"
          ]
        }
      ]
    },
    {
      "cell_type": "code",
      "source": [
        "%matplotlib inline\n",
        "from fastai import *\n",
        "from fastai.vision import *\n",
        "from fastai.vision.all import *\n",
        "\n",
        "torch.backends.cudnn.benchmark = True"
      ],
      "metadata": {
        "execution": {
          "iopub.status.busy": "2024-03-12T08:45:17.830133Z",
          "iopub.execute_input": "2024-03-12T08:45:17.830529Z",
          "iopub.status.idle": "2024-03-12T08:45:29.435973Z",
          "shell.execute_reply.started": "2024-03-12T08:45:17.830496Z",
          "shell.execute_reply": "2024-03-12T08:45:29.435019Z"
        },
        "trusted": true,
        "id": "oyiqunXNu53Z"
      },
      "execution_count": 2,
      "outputs": []
    },
    {
      "cell_type": "code",
      "source": [
        "# Test to ensure that my cuda is still visible\n",
        "import torch as torch\n",
        "torch.cuda.is_available()"
      ],
      "metadata": {
        "execution": {
          "iopub.status.busy": "2024-03-12T08:46:08.873627Z",
          "iopub.execute_input": "2024-03-12T08:46:08.874006Z",
          "iopub.status.idle": "2024-03-12T08:46:08.929377Z",
          "shell.execute_reply.started": "2024-03-12T08:46:08.873974Z",
          "shell.execute_reply": "2024-03-12T08:46:08.928069Z"
        },
        "trusted": true,
        "id": "2ahKPHMdu53Z",
        "outputId": "fa3e280b-2cd5-4528-adcc-6908ead9df20",
        "colab": {
          "base_uri": "https://localhost:8080/"
        }
      },
      "execution_count": 3,
      "outputs": [
        {
          "output_type": "execute_result",
          "data": {
            "text/plain": [
              "True"
            ]
          },
          "metadata": {},
          "execution_count": 3
        }
      ]
    },
    {
      "cell_type": "markdown",
      "source": [
        "Switching to CPU to see how things go...\n",
        "Hmmm, these settings were supposed to work, but the GPU was still being used.\n",
        "Switching to the default Python kernel which should not have GPU suppport."
      ],
      "metadata": {
        "id": "Jj5QK5wtu53Z"
      }
    },
    {
      "cell_type": "code",
      "source": [
        "torch.device(\"cpu\")\n",
        "default_device(-1)\n",
        "defaults.device = 'cpu'\n",
        "# torch.cuda.device(0) to select the first GPU (and only GPU on my system)\n",
        "#torch.cuda.current_device()"
      ],
      "metadata": {
        "execution": {
          "iopub.status.busy": "2024-03-12T08:46:13.422724Z",
          "iopub.execute_input": "2024-03-12T08:46:13.423121Z",
          "iopub.status.idle": "2024-03-12T08:46:13.459141Z",
          "shell.execute_reply.started": "2024-03-12T08:46:13.423089Z",
          "shell.execute_reply": "2024-03-12T08:46:13.457835Z"
        },
        "trusted": true,
        "id": "PYYew4Fau53a"
      },
      "execution_count": 4,
      "outputs": []
    },
    {
      "cell_type": "markdown",
      "source": [
        "For long running cells I don't want %%timeit to run many times and average results, which is the default behavior"
      ],
      "metadata": {
        "id": "jrmZsZHBu53a"
      }
    },
    {
      "cell_type": "code",
      "source": [
        "%%timeit -n 1 -r 1\n",
        "#torch.cuda.get_device_name(0)"
      ],
      "metadata": {
        "execution": {
          "iopub.status.busy": "2024-03-12T05:59:01.718709Z",
          "iopub.execute_input": "2024-03-12T05:59:01.719127Z",
          "iopub.status.idle": "2024-03-12T05:59:02.115652Z",
          "shell.execute_reply.started": "2024-03-12T05:59:01.719096Z",
          "shell.execute_reply": "2024-03-12T05:59:02.114119Z"
        },
        "trusted": true,
        "id": "TE4K6Py8u53a"
      },
      "execution_count": null,
      "outputs": []
    },
    {
      "cell_type": "code",
      "source": [
        "cpu = torch.device(\"cpu\")"
      ],
      "metadata": {
        "execution": {
          "iopub.status.busy": "2024-03-12T05:59:14.4107Z",
          "iopub.execute_input": "2024-03-12T05:59:14.411236Z",
          "iopub.status.idle": "2024-03-12T05:59:14.416453Z",
          "shell.execute_reply.started": "2024-03-12T05:59:14.411195Z",
          "shell.execute_reply": "2024-03-12T05:59:14.415576Z"
        },
        "trusted": true,
        "id": "_IBCCMMlu53a"
      },
      "execution_count": 6,
      "outputs": []
    },
    {
      "cell_type": "code",
      "source": [
        "path = untar_data(URLs.CIFAR)\n",
        "path"
      ],
      "metadata": {
        "execution": {
          "iopub.status.busy": "2024-03-12T08:46:18.422585Z",
          "iopub.execute_input": "2024-03-12T08:46:18.423047Z",
          "iopub.status.idle": "2024-03-12T08:46:37.732548Z",
          "shell.execute_reply.started": "2024-03-12T08:46:18.423005Z",
          "shell.execute_reply": "2024-03-12T08:46:37.73142Z"
        },
        "trusted": true,
        "id": "OQ7ng-oku53b",
        "outputId": "ea868895-74ba-4a5d-e771-0723f31b7918",
        "colab": {
          "base_uri": "https://localhost:8080/",
          "height": 54
        }
      },
      "execution_count": 7,
      "outputs": [
        {
          "output_type": "display_data",
          "data": {
            "text/plain": [
              "<IPython.core.display.HTML object>"
            ],
            "text/html": [
              "\n",
              "<style>\n",
              "    /* Turns off some styling */\n",
              "    progress {\n",
              "        /* gets rid of default border in Firefox and Opera. */\n",
              "        border: none;\n",
              "        /* Needs to be in here for Safari polyfill so background images work as expected. */\n",
              "        background-size: auto;\n",
              "    }\n",
              "    progress:not([value]), progress:not([value])::-webkit-progress-bar {\n",
              "        background: repeating-linear-gradient(45deg, #7e7e7e, #7e7e7e 10px, #5c5c5c 10px, #5c5c5c 20px);\n",
              "    }\n",
              "    .progress-bar-interrupted, .progress-bar-interrupted::-webkit-progress-bar {\n",
              "        background: #F44336;\n",
              "    }\n",
              "</style>\n"
            ]
          },
          "metadata": {}
        },
        {
          "output_type": "display_data",
          "data": {
            "text/plain": [
              "<IPython.core.display.HTML object>"
            ],
            "text/html": [
              "\n",
              "    <div>\n",
              "      <progress value='168173568' class='' max='168168549' style='width:300px; height:20px; vertical-align: middle;'></progress>\n",
              "      100.00% [168173568/168168549 00:03&lt;00:00]\n",
              "    </div>\n",
              "    "
            ]
          },
          "metadata": {}
        },
        {
          "output_type": "execute_result",
          "data": {
            "text/plain": [
              "Path('/root/.fastai/data/cifar10')"
            ]
          },
          "metadata": {},
          "execution_count": 7
        }
      ]
    },
    {
      "cell_type": "code",
      "source": [
        "bs = 256"
      ],
      "metadata": {
        "execution": {
          "iopub.status.busy": "2024-03-12T08:46:37.734587Z",
          "iopub.execute_input": "2024-03-12T08:46:37.734959Z",
          "iopub.status.idle": "2024-03-12T08:46:37.743393Z",
          "shell.execute_reply.started": "2024-03-12T08:46:37.734925Z",
          "shell.execute_reply": "2024-03-12T08:46:37.741967Z"
        },
        "trusted": true,
        "id": "Ao7HQEFCu53b"
      },
      "execution_count": 8,
      "outputs": []
    },
    {
      "cell_type": "code",
      "source": [
        "ds_tfms = ([OldRandomCrop(4, 32), FlipItem(p=0.5)], [])\n",
        "data = ImageDataLoaders.from_folder(path, valid='test', item_tfms=ds_tfms, bs=bs)"
      ],
      "metadata": {
        "execution": {
          "iopub.status.busy": "2024-03-12T08:46:57.877036Z",
          "iopub.execute_input": "2024-03-12T08:46:57.877412Z",
          "iopub.status.idle": "2024-03-12T08:47:04.63722Z",
          "shell.execute_reply.started": "2024-03-12T08:46:57.877378Z",
          "shell.execute_reply": "2024-03-12T08:47:04.636233Z"
        },
        "trusted": true,
        "id": "wEJ4z9SFu53b"
      },
      "execution_count": 9,
      "outputs": []
    },
    {
      "cell_type": "markdown",
      "source": [
        "### This seems to do the trick--finally am not seeing any action on the GPU.  Of course,\n",
        "data.to(cpu)\n"
      ],
      "metadata": {
        "id": "OoROeNbju53b"
      }
    },
    {
      "cell_type": "code",
      "source": [
        "learn = Learner(data, xresnet152(pretrained=True).to(\"cpu\"), metrics=accuracy)\n",
        "#learn.to(cpu)"
      ],
      "metadata": {
        "execution": {
          "iopub.status.busy": "2024-03-12T08:47:53.745573Z",
          "iopub.execute_input": "2024-03-12T08:47:53.746426Z",
          "iopub.status.idle": "2024-03-12T08:48:00.048185Z",
          "shell.execute_reply.started": "2024-03-12T08:47:53.746382Z",
          "shell.execute_reply": "2024-03-12T08:48:00.047336Z"
        },
        "trusted": true,
        "id": "TO0Uo-L-u53b",
        "outputId": "f1ab0203-d36e-4e06-b6fa-b67ddbf5a900",
        "colab": {
          "base_uri": "https://localhost:8080/"
        }
      },
      "execution_count": 10,
      "outputs": [
        {
          "output_type": "stream",
          "name": "stderr",
          "text": [
            "Downloading: \"https://s3.amazonaws.com/fast-ai-modelzoo/xrn50_940.pth\" to /root/.cache/torch/hub/checkpoints/xrn50_940.pth\n",
            "100%|██████████| 244M/244M [00:05<00:00, 43.6MB/s]\n"
          ]
        }
      ]
    },
    {
      "cell_type": "markdown",
      "source": [
        "**Fit One Cycle**\n",
        "Good info on fit_one_cycle: https://iconof.com/1cycle-learning-rate-policy/\n",
        "https://sgugger.github.io/the-1cycle-policy.html\n",
        "https://fastai.github.io/fastbook2e/accel_sgd.html\n",
        "\n",
        "Changed the model to xresnet152, and using pretrained=True, 15 epochs, adding momentum"
      ],
      "metadata": {
        "id": "THaWN_EOu53c"
      }
    },
    {
      "cell_type": "code",
      "source": [
        "# Commented out the 'to(cpu)' calls in previous cells.\n",
        "# lr_find takes less than 50 seconds to complete when it defaults to my GPU\n",
        "# It was pegging my CPU, at 25% done, and had taken 5+ minutes.\n",
        "# Not completely fair to compare, but that would be about 25x speed difference\n",
        "# Running too slow on the CPU to try longer tests!\n",
        "learn.lr_find()"
      ],
      "metadata": {
        "execution": {
          "iopub.status.busy": "2024-03-12T08:49:12.173585Z",
          "iopub.execute_input": "2024-03-12T08:49:12.174736Z",
          "iopub.status.idle": "2024-03-12T08:49:49.807416Z",
          "shell.execute_reply.started": "2024-03-12T08:49:12.174692Z",
          "shell.execute_reply": "2024-03-12T08:49:49.806206Z"
        },
        "trusted": true,
        "id": "Mbdha783u53c",
        "outputId": "2248cd15-eab8-430e-9ef0-546d990d943a",
        "colab": {
          "base_uri": "https://localhost:8080/",
          "height": 474
        }
      },
      "execution_count": 11,
      "outputs": [
        {
          "output_type": "display_data",
          "data": {
            "text/plain": [
              "<IPython.core.display.HTML object>"
            ],
            "text/html": [
              "\n",
              "<style>\n",
              "    /* Turns off some styling */\n",
              "    progress {\n",
              "        /* gets rid of default border in Firefox and Opera. */\n",
              "        border: none;\n",
              "        /* Needs to be in here for Safari polyfill so background images work as expected. */\n",
              "        background-size: auto;\n",
              "    }\n",
              "    progress:not([value]), progress:not([value])::-webkit-progress-bar {\n",
              "        background: repeating-linear-gradient(45deg, #7e7e7e, #7e7e7e 10px, #5c5c5c 10px, #5c5c5c 20px);\n",
              "    }\n",
              "    .progress-bar-interrupted, .progress-bar-interrupted::-webkit-progress-bar {\n",
              "        background: #F44336;\n",
              "    }\n",
              "</style>\n"
            ]
          },
          "metadata": {}
        },
        {
          "output_type": "display_data",
          "data": {
            "text/plain": [
              "<IPython.core.display.HTML object>"
            ],
            "text/html": []
          },
          "metadata": {}
        },
        {
          "output_type": "execute_result",
          "data": {
            "text/plain": [
              "SuggestedLRs(valley=0.0006918309954926372)"
            ]
          },
          "metadata": {},
          "execution_count": 11
        },
        {
          "output_type": "display_data",
          "data": {
            "text/plain": [
              "<Figure size 640x480 with 1 Axes>"
            ],
            "image/png": "[encoded data removed]"
          },
          "metadata": {}
        }
      ]
    },
    {
      "cell_type": "code",
      "source": [
        "%%timeit  -n 1 -r 1\n",
        "\n",
        "learn.fit_one_cycle(15, 0.000575439, wd=0.4, div=10, pct_start=0.5)"
      ],
      "metadata": {
        "execution": {
          "iopub.status.busy": "2024-03-12T08:50:58.94786Z",
          "iopub.execute_input": "2024-03-12T08:50:58.948288Z"
        },
        "trusted": true,
        "id": "-A15iOdVu53c",
        "outputId": "3eceb469-9305-4302-d6f4-b0efe9b2d09a",
        "colab": {
          "base_uri": "https://localhost:8080/",
          "height": 537
        }
      },
      "execution_count": 12,
      "outputs": [
        {
          "output_type": "display_data",
          "data": {
            "text/plain": [
              "<IPython.core.display.HTML object>"
            ],
            "text/html": [
              "\n",
              "<style>\n",
              "    /* Turns off some styling */\n",
              "    progress {\n",
              "        /* gets rid of default border in Firefox and Opera. */\n",
              "        border: none;\n",
              "        /* Needs to be in here for Safari polyfill so background images work as expected. */\n",
              "        background-size: auto;\n",
              "    }\n",
              "    progress:not([value]), progress:not([value])::-webkit-progress-bar {\n",
              "        background: repeating-linear-gradient(45deg, #7e7e7e, #7e7e7e 10px, #5c5c5c 10px, #5c5c5c 20px);\n",
              "    }\n",
              "    .progress-bar-interrupted, .progress-bar-interrupted::-webkit-progress-bar {\n",
              "        background: #F44336;\n",
              "    }\n",
              "</style>\n"
            ]
          },
          "metadata": {}
        },
        {
          "output_type": "display_data",
          "data": {
            "text/plain": [
              "<IPython.core.display.HTML object>"
            ],
            "text/html": [
              "<table border=\"1\" class=\"dataframe\">\n",
              "  <thead>\n",
              "    <tr style=\"text-align: left;\">\n",
              "      <th>epoch</th>\n",
              "      <th>train_loss</th>\n",
              "      <th>valid_loss</th>\n",
              "      <th>accuracy</th>\n",
              "      <th>time</th>\n",
              "    </tr>\n",
              "  </thead>\n",
              "  <tbody>\n",
              "    <tr>\n",
              "      <td>0</td>\n",
              "      <td>1.327950</td>\n",
              "      <td>1.143735</td>\n",
              "      <td>0.608600</td>\n",
              "      <td>01:18</td>\n",
              "    </tr>\n",
              "    <tr>\n",
              "      <td>1</td>\n",
              "      <td>0.906913</td>\n",
              "      <td>0.896338</td>\n",
              "      <td>0.684200</td>\n",
              "      <td>01:17</td>\n",
              "    </tr>\n",
              "    <tr>\n",
              "      <td>2</td>\n",
              "      <td>0.692367</td>\n",
              "      <td>0.796110</td>\n",
              "      <td>0.721400</td>\n",
              "      <td>01:17</td>\n",
              "    </tr>\n",
              "    <tr>\n",
              "      <td>3</td>\n",
              "      <td>0.520045</td>\n",
              "      <td>0.823232</td>\n",
              "      <td>0.728400</td>\n",
              "      <td>01:18</td>\n",
              "    </tr>\n",
              "    <tr>\n",
              "      <td>4</td>\n",
              "      <td>0.401614</td>\n",
              "      <td>0.887460</td>\n",
              "      <td>0.728000</td>\n",
              "      <td>01:18</td>\n",
              "    </tr>\n",
              "    <tr>\n",
              "      <td>5</td>\n",
              "      <td>0.311985</td>\n",
              "      <td>1.197593</td>\n",
              "      <td>0.671000</td>\n",
              "      <td>01:17</td>\n",
              "    </tr>\n",
              "    <tr>\n",
              "      <td>6</td>\n",
              "      <td>0.259045</td>\n",
              "      <td>1.267278</td>\n",
              "      <td>0.680400</td>\n",
              "      <td>01:17</td>\n",
              "    </tr>\n",
              "    <tr>\n",
              "      <td>7</td>\n",
              "      <td>0.221971</td>\n",
              "      <td>1.013783</td>\n",
              "      <td>0.731200</td>\n",
              "      <td>01:19</td>\n",
              "    </tr>\n",
              "    <tr>\n",
              "      <td>8</td>\n",
              "      <td>0.158829</td>\n",
              "      <td>1.076078</td>\n",
              "      <td>0.738100</td>\n",
              "      <td>01:18</td>\n",
              "    </tr>\n",
              "    <tr>\n",
              "      <td>9</td>\n",
              "      <td>0.106947</td>\n",
              "      <td>1.204825</td>\n",
              "      <td>0.728600</td>\n",
              "      <td>01:17</td>\n",
              "    </tr>\n",
              "    <tr>\n",
              "      <td>10</td>\n",
              "      <td>0.054280</td>\n",
              "      <td>1.021222</td>\n",
              "      <td>0.771100</td>\n",
              "      <td>01:18</td>\n",
              "    </tr>\n",
              "    <tr>\n",
              "      <td>11</td>\n",
              "      <td>0.019877</td>\n",
              "      <td>1.008285</td>\n",
              "      <td>0.788900</td>\n",
              "      <td>01:18</td>\n",
              "    </tr>\n",
              "    <tr>\n",
              "      <td>12</td>\n",
              "      <td>0.003681</td>\n",
              "      <td>0.868059</td>\n",
              "      <td>0.817300</td>\n",
              "      <td>01:18</td>\n",
              "    </tr>\n",
              "    <tr>\n",
              "      <td>13</td>\n",
              "      <td>0.000738</td>\n",
              "      <td>0.870193</td>\n",
              "      <td>0.820000</td>\n",
              "      <td>01:18</td>\n",
              "    </tr>\n",
              "    <tr>\n",
              "      <td>14</td>\n",
              "      <td>0.000465</td>\n",
              "      <td>0.871892</td>\n",
              "      <td>0.821200</td>\n",
              "      <td>01:18</td>\n",
              "    </tr>\n",
              "  </tbody>\n",
              "</table>"
            ]
          },
          "metadata": {}
        },
        {
          "output_type": "stream",
          "name": "stdout",
          "text": [
            "19min 32s ± 0 ns per loop (mean ± std. dev. of 1 run, 1 loop each)\n"
          ]
        }
      ]
    }
  ]
}