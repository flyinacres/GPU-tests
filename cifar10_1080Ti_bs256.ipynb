{
 "cells": [
  {
   "cell_type": "code",
   "execution_count": 1,
   "metadata": {},
   "outputs": [
    {
     "name": "stdout",
     "output_type": "stream",
     "text": [
      "Collecting fastai\n",
      "  Downloading fastai-2.7.14-py3-none-any.whl.metadata (9.1 kB)\n",
      "Requirement already satisfied: pip in d:\\dev\\anaconda\\envs\\cuda_test\\lib\\site-packages (from fastai) (23.3.1)\n",
      "Requirement already satisfied: packaging in d:\\dev\\anaconda\\envs\\cuda_test\\lib\\site-packages (from fastai) (23.1)\n",
      "Collecting fastdownload<2,>=0.0.5 (from fastai)\n",
      "  Downloading fastdownload-0.0.7-py3-none-any.whl.metadata (5.5 kB)\n",
      "Collecting fastcore<1.6,>=1.5.29 (from fastai)\n",
      "  Downloading fastcore-1.5.29-py3-none-any.whl.metadata (3.5 kB)\n",
      "Requirement already satisfied: torchvision>=0.11 in d:\\dev\\anaconda\\envs\\cuda_test\\lib\\site-packages (from fastai) (0.16.1)\n",
      "Collecting matplotlib (from fastai)\n",
      "  Downloading matplotlib-3.8.3-cp311-cp311-win_amd64.whl.metadata (5.9 kB)\n",
      "Requirement already satisfied: pandas in d:\\dev\\anaconda\\envs\\cuda_test\\lib\\site-packages (from fastai) (2.2.1)\n",
      "Requirement already satisfied: requests in d:\\dev\\anaconda\\envs\\cuda_test\\lib\\site-packages (from fastai) (2.31.0)\n",
      "Requirement already satisfied: pyyaml in d:\\dev\\anaconda\\envs\\cuda_test\\lib\\site-packages (from fastai) (6.0.1)\n",
      "Collecting fastprogress>=0.2.4 (from fastai)\n",
      "  Downloading fastprogress-1.0.3-py3-none-any.whl.metadata (5.6 kB)\n",
      "Requirement already satisfied: pillow>=9.0.0 in d:\\dev\\anaconda\\envs\\cuda_test\\lib\\site-packages (from fastai) (10.2.0)\n",
      "Collecting scikit-learn (from fastai)\n",
      "  Downloading scikit_learn-1.4.1.post1-cp311-cp311-win_amd64.whl.metadata (11 kB)\n",
      "Collecting scipy (from fastai)\n",
      "  Using cached scipy-1.12.0-cp311-cp311-win_amd64.whl.metadata (60 kB)\n",
      "Collecting spacy<4 (from fastai)\n",
      "  Downloading spacy-3.7.4-cp311-cp311-win_amd64.whl.metadata (27 kB)\n",
      "Requirement already satisfied: torch<2.3,>=1.10 in d:\\dev\\anaconda\\envs\\cuda_test\\lib\\site-packages (from fastai) (2.1.1)\n",
      "Collecting spacy-legacy<3.1.0,>=3.0.11 (from spacy<4->fastai)\n",
      "  Downloading spacy_legacy-3.0.12-py2.py3-none-any.whl.metadata (2.8 kB)\n",
      "Collecting spacy-loggers<2.0.0,>=1.0.0 (from spacy<4->fastai)\n",
      "  Downloading spacy_loggers-1.0.5-py3-none-any.whl.metadata (23 kB)\n",
      "Collecting murmurhash<1.1.0,>=0.28.0 (from spacy<4->fastai)\n",
      "  Downloading murmurhash-1.0.10-cp311-cp311-win_amd64.whl.metadata (2.0 kB)\n",
      "Collecting cymem<2.1.0,>=2.0.2 (from spacy<4->fastai)\n",
      "  Downloading cymem-2.0.8-cp311-cp311-win_amd64.whl.metadata (8.6 kB)\n",
      "Collecting preshed<3.1.0,>=3.0.2 (from spacy<4->fastai)\n",
      "  Downloading preshed-3.0.9-cp311-cp311-win_amd64.whl.metadata (2.2 kB)\n",
      "Collecting thinc<8.3.0,>=8.2.2 (from spacy<4->fastai)\n",
      "  Downloading thinc-8.2.3-cp311-cp311-win_amd64.whl.metadata (15 kB)\n",
      "Collecting wasabi<1.2.0,>=0.9.1 (from spacy<4->fastai)\n",
      "  Downloading wasabi-1.1.2-py3-none-any.whl.metadata (28 kB)\n",
      "Collecting srsly<3.0.0,>=2.4.3 (from spacy<4->fastai)\n",
      "  Downloading srsly-2.4.8-cp311-cp311-win_amd64.whl.metadata (20 kB)\n",
      "Collecting catalogue<2.1.0,>=2.0.6 (from spacy<4->fastai)\n",
      "  Downloading catalogue-2.0.10-py3-none-any.whl.metadata (14 kB)\n",
      "Collecting weasel<0.4.0,>=0.1.0 (from spacy<4->fastai)\n",
      "  Downloading weasel-0.3.4-py3-none-any.whl.metadata (4.7 kB)\n",
      "Collecting typer<0.10.0,>=0.3.0 (from spacy<4->fastai)\n",
      "  Downloading typer-0.9.0-py3-none-any.whl.metadata (14 kB)\n",
      "Collecting smart-open<7.0.0,>=5.2.1 (from spacy<4->fastai)\n",
      "  Downloading smart_open-6.4.0-py3-none-any.whl.metadata (21 kB)\n",
      "Collecting tqdm<5.0.0,>=4.38.0 (from spacy<4->fastai)\n",
      "  Using cached tqdm-4.66.2-py3-none-any.whl.metadata (57 kB)\n",
      "Collecting pydantic!=1.8,!=1.8.1,<3.0.0,>=1.7.4 (from spacy<4->fastai)\n",
      "  Downloading pydantic-2.6.3-py3-none-any.whl.metadata (84 kB)\n",
      "     ---------------------------------------- 0.0/84.4 kB ? eta -:--:--\n",
      "     -------------- ------------------------- 30.7/84.4 kB 1.4 MB/s eta 0:00:01\n",
      "     -------------------------------- ----- 71.7/84.4 kB 991.0 kB/s eta 0:00:01\n",
      "     -------------------------------------- 84.4/84.4 kB 951.4 kB/s eta 0:00:00\n",
      "Requirement already satisfied: jinja2 in d:\\dev\\anaconda\\envs\\cuda_test\\lib\\site-packages (from spacy<4->fastai) (3.1.3)\n",
      "Requirement already satisfied: setuptools in d:\\dev\\anaconda\\envs\\cuda_test\\lib\\site-packages (from spacy<4->fastai) (68.2.2)\n",
      "Collecting langcodes<4.0.0,>=3.2.0 (from spacy<4->fastai)\n",
      "  Downloading langcodes-3.3.0-py3-none-any.whl.metadata (29 kB)\n",
      "Requirement already satisfied: numpy>=1.19.0 in d:\\dev\\anaconda\\envs\\cuda_test\\lib\\site-packages (from spacy<4->fastai) (1.26.4)\n",
      "Requirement already satisfied: charset-normalizer<4,>=2 in d:\\dev\\anaconda\\envs\\cuda_test\\lib\\site-packages (from requests->fastai) (2.0.4)\n",
      "Requirement already satisfied: idna<4,>=2.5 in d:\\dev\\anaconda\\envs\\cuda_test\\lib\\site-packages (from requests->fastai) (3.4)\n",
      "Requirement already satisfied: urllib3<3,>=1.21.1 in d:\\dev\\anaconda\\envs\\cuda_test\\lib\\site-packages (from requests->fastai) (2.1.0)\n",
      "Requirement already satisfied: certifi>=2017.4.17 in d:\\dev\\anaconda\\envs\\cuda_test\\lib\\site-packages (from requests->fastai) (2024.2.2)\n",
      "Requirement already satisfied: filelock in d:\\dev\\anaconda\\envs\\cuda_test\\lib\\site-packages (from torch<2.3,>=1.10->fastai) (3.13.1)\n",
      "Requirement already satisfied: typing-extensions in d:\\dev\\anaconda\\envs\\cuda_test\\lib\\site-packages (from torch<2.3,>=1.10->fastai) (4.9.0)\n",
      "Requirement already satisfied: sympy in d:\\dev\\anaconda\\envs\\cuda_test\\lib\\site-packages (from torch<2.3,>=1.10->fastai) (1.12)\n",
      "Requirement already satisfied: networkx in d:\\dev\\anaconda\\envs\\cuda_test\\lib\\site-packages (from torch<2.3,>=1.10->fastai) (3.1)\n",
      "Collecting fsspec (from torch<2.3,>=1.10->fastai)\n",
      "  Using cached fsspec-2024.2.0-py3-none-any.whl.metadata (6.8 kB)\n",
      "Collecting contourpy>=1.0.1 (from matplotlib->fastai)\n",
      "  Using cached contourpy-1.2.0-cp311-cp311-win_amd64.whl.metadata (5.8 kB)\n",
      "Collecting cycler>=0.10 (from matplotlib->fastai)\n",
      "  Using cached cycler-0.12.1-py3-none-any.whl.metadata (3.8 kB)\n",
      "Collecting fonttools>=4.22.0 (from matplotlib->fastai)\n",
      "  Downloading fonttools-4.49.0-cp311-cp311-win_amd64.whl.metadata (162 kB)\n",
      "     ---------------------------------------- 0.0/162.3 kB ? eta -:--:--\n",
      "     ------- ------------------------------- 30.7/162.3 kB 1.4 MB/s eta 0:00:01\n",
      "     ------------------- ------------------- 81.9/162.3 kB 1.6 MB/s eta 0:00:01\n",
      "     --------------------------------- ---- 143.4/162.3 kB 1.2 MB/s eta 0:00:01\n",
      "     -------------------------------------- 162.3/162.3 kB 1.2 MB/s eta 0:00:00\n",
      "Collecting kiwisolver>=1.3.1 (from matplotlib->fastai)\n",
      "  Using cached kiwisolver-1.4.5-cp311-cp311-win_amd64.whl.metadata (6.5 kB)\n",
      "Collecting pyparsing>=2.3.1 (from matplotlib->fastai)\n",
      "  Downloading pyparsing-3.1.2-py3-none-any.whl.metadata (5.1 kB)\n",
      "Requirement already satisfied: python-dateutil>=2.7 in d:\\dev\\anaconda\\envs\\cuda_test\\lib\\site-packages (from matplotlib->fastai) (2.8.2)\n",
      "Requirement already satisfied: pytz>=2020.1 in d:\\dev\\anaconda\\envs\\cuda_test\\lib\\site-packages (from pandas->fastai) (2023.3.post1)\n",
      "Requirement already satisfied: tzdata>=2022.7 in d:\\dev\\anaconda\\envs\\cuda_test\\lib\\site-packages (from pandas->fastai) (2024.1)\n",
      "Collecting joblib>=1.2.0 (from scikit-learn->fastai)\n",
      "  Using cached joblib-1.3.2-py3-none-any.whl.metadata (5.4 kB)\n",
      "Collecting threadpoolctl>=2.0.0 (from scikit-learn->fastai)\n",
      "  Using cached threadpoolctl-3.3.0-py3-none-any.whl.metadata (13 kB)\n",
      "Collecting annotated-types>=0.4.0 (from pydantic!=1.8,!=1.8.1,<3.0.0,>=1.7.4->spacy<4->fastai)\n",
      "  Downloading annotated_types-0.6.0-py3-none-any.whl.metadata (12 kB)\n",
      "Collecting pydantic-core==2.16.3 (from pydantic!=1.8,!=1.8.1,<3.0.0,>=1.7.4->spacy<4->fastai)\n",
      "  Downloading pydantic_core-2.16.3-cp311-none-win_amd64.whl.metadata (6.6 kB)\n",
      "Requirement already satisfied: six>=1.5 in d:\\dev\\anaconda\\envs\\cuda_test\\lib\\site-packages (from python-dateutil>=2.7->matplotlib->fastai) (1.16.0)\n",
      "Collecting blis<0.8.0,>=0.7.8 (from thinc<8.3.0,>=8.2.2->spacy<4->fastai)\n",
      "  Downloading blis-0.7.11-cp311-cp311-win_amd64.whl.metadata (7.6 kB)\n",
      "Collecting confection<1.0.0,>=0.0.1 (from thinc<8.3.0,>=8.2.2->spacy<4->fastai)\n",
      "  Downloading confection-0.1.4-py3-none-any.whl.metadata (19 kB)\n",
      "Requirement already satisfied: colorama in d:\\dev\\anaconda\\envs\\cuda_test\\lib\\site-packages (from tqdm<5.0.0,>=4.38.0->spacy<4->fastai) (0.4.6)\n",
      "Collecting click<9.0.0,>=7.1.1 (from typer<0.10.0,>=0.3.0->spacy<4->fastai)\n",
      "  Downloading click-8.1.7-py3-none-any.whl.metadata (3.0 kB)\n",
      "Collecting cloudpathlib<0.17.0,>=0.7.0 (from weasel<0.4.0,>=0.1.0->spacy<4->fastai)\n",
      "  Downloading cloudpathlib-0.16.0-py3-none-any.whl.metadata (14 kB)\n",
      "Requirement already satisfied: MarkupSafe>=2.0 in d:\\dev\\anaconda\\envs\\cuda_test\\lib\\site-packages (from jinja2->spacy<4->fastai) (2.1.3)\n",
      "Requirement already satisfied: mpmath>=0.19 in d:\\dev\\anaconda\\envs\\cuda_test\\lib\\site-packages (from sympy->torch<2.3,>=1.10->fastai) (1.3.0)\n",
      "Downloading fastai-2.7.14-py3-none-any.whl (232 kB)\n",
      "   ---------------------------------------- 0.0/232.2 kB ? eta -:--:--\n",
      "   ---------------------------------------- 0.0/232.2 kB ? eta -:--:--\n",
      "   - -------------------------------------- 10.2/232.2 kB ? eta -:--:--\n",
      "   ----- --------------------------------- 30.7/232.2 kB 660.6 kB/s eta 0:00:01\n",
      "   ------ -------------------------------- 41.0/232.2 kB 495.5 kB/s eta 0:00:01\n",
      "   ------------ -------------------------- 71.7/232.2 kB 435.7 kB/s eta 0:00:01\n",
      "   --------------- ----------------------- 92.2/232.2 kB 438.1 kB/s eta 0:00:01\n",
      "   -------------------- ----------------- 122.9/232.2 kB 481.4 kB/s eta 0:00:01\n",
      "   ------------------------- ------------ 153.6/232.2 kB 510.2 kB/s eta 0:00:01\n",
      "   --------------------------------- ---- 204.8/232.2 kB 593.2 kB/s eta 0:00:01\n",
      "   -------------------------------------- 232.2/232.2 kB 645.3 kB/s eta 0:00:00\n",
      "Downloading fastcore-1.5.29-py3-none-any.whl (67 kB)\n",
      "   ---------------------------------------- 0.0/67.6 kB ? eta -:--:--\n",
      "   ------------------------ --------------- 41.0/67.6 kB 2.0 MB/s eta 0:00:01\n",
      "   ---------------------------------------- 67.6/67.6 kB 1.9 MB/s eta 0:00:00\n",
      "Downloading fastdownload-0.0.7-py3-none-any.whl (12 kB)\n",
      "Downloading fastprogress-1.0.3-py3-none-any.whl (12 kB)\n",
      "Downloading spacy-3.7.4-cp311-cp311-win_amd64.whl (12.1 MB)\n",
      "   ---------------------------------------- 0.0/12.1 MB ? eta -:--:--\n",
      "   ---------------------------------------- 0.0/12.1 MB 1.9 MB/s eta 0:00:07\n",
      "   ---------------------------------------- 0.1/12.1 MB 1.8 MB/s eta 0:00:07\n",
      "    --------------------------------------- 0.2/12.1 MB 1.7 MB/s eta 0:00:08\n",
      "    --------------------------------------- 0.3/12.1 MB 1.6 MB/s eta 0:00:08\n",
      "   - -------------------------------------- 0.4/12.1 MB 1.8 MB/s eta 0:00:07\n",
      "   - -------------------------------------- 0.5/12.1 MB 1.8 MB/s eta 0:00:07\n",
      "   - -------------------------------------- 0.6/12.1 MB 1.9 MB/s eta 0:00:07\n",
      "   -- ------------------------------------- 0.7/12.1 MB 1.9 MB/s eta 0:00:07\n",
      "   -- ------------------------------------- 0.8/12.1 MB 1.9 MB/s eta 0:00:06\n",
      "   -- ------------------------------------- 0.9/12.1 MB 2.0 MB/s eta 0:00:06\n",
      "   --- ------------------------------------ 1.0/12.1 MB 2.0 MB/s eta 0:00:06\n",
      "   --- ------------------------------------ 1.1/12.1 MB 2.1 MB/s eta 0:00:06\n",
      "   ---- ----------------------------------- 1.3/12.1 MB 2.2 MB/s eta 0:00:06\n",
      "   ---- ----------------------------------- 1.4/12.1 MB 2.2 MB/s eta 0:00:05\n",
      "   ----- ---------------------------------- 1.6/12.1 MB 2.3 MB/s eta 0:00:05\n",
      "   ----- ---------------------------------- 1.7/12.1 MB 2.4 MB/s eta 0:00:05\n",
      "   ------ --------------------------------- 1.9/12.1 MB 2.4 MB/s eta 0:00:05\n",
      "   ------ --------------------------------- 2.0/12.1 MB 2.4 MB/s eta 0:00:05\n",
      "   ------- -------------------------------- 2.2/12.1 MB 2.5 MB/s eta 0:00:04\n",
      "   ------- -------------------------------- 2.4/12.1 MB 2.6 MB/s eta 0:00:04\n",
      "   -------- ------------------------------- 2.6/12.1 MB 2.7 MB/s eta 0:00:04\n",
      "   --------- ------------------------------ 2.8/12.1 MB 2.8 MB/s eta 0:00:04\n",
      "   --------- ------------------------------ 3.0/12.1 MB 2.9 MB/s eta 0:00:04\n",
      "   ---------- ----------------------------- 3.2/12.1 MB 3.0 MB/s eta 0:00:03\n",
      "   ----------- ---------------------------- 3.5/12.1 MB 3.1 MB/s eta 0:00:03\n",
      "   ------------ --------------------------- 3.8/12.1 MB 3.2 MB/s eta 0:00:03\n",
      "   ------------- -------------------------- 4.0/12.1 MB 3.3 MB/s eta 0:00:03\n",
      "   -------------- ------------------------- 4.3/12.1 MB 3.4 MB/s eta 0:00:03\n",
      "   --------------- ------------------------ 4.6/12.1 MB 3.5 MB/s eta 0:00:03\n",
      "   ---------------- ----------------------- 4.9/12.1 MB 3.6 MB/s eta 0:00:02\n",
      "   ----------------- ---------------------- 5.2/12.1 MB 3.7 MB/s eta 0:00:02\n",
      "   ------------------ --------------------- 5.6/12.1 MB 3.9 MB/s eta 0:00:02\n",
      "   ------------------- -------------------- 6.0/12.1 MB 4.0 MB/s eta 0:00:02\n",
      "   --------------------- ------------------ 6.4/12.1 MB 4.2 MB/s eta 0:00:02\n",
      "   ---------------------- ----------------- 6.7/12.1 MB 4.2 MB/s eta 0:00:02\n",
      "   ------------------------ --------------- 7.3/12.1 MB 4.5 MB/s eta 0:00:02\n",
      "   ------------------------- -------------- 7.8/12.1 MB 4.6 MB/s eta 0:00:01\n",
      "   --------------------------- ------------ 8.3/12.1 MB 4.8 MB/s eta 0:00:01\n",
      "   ---------------------------- ----------- 8.8/12.1 MB 4.9 MB/s eta 0:00:01\n",
      "   ------------------------------ --------- 9.3/12.1 MB 5.1 MB/s eta 0:00:01\n",
      "   -------------------------------- ------- 9.8/12.1 MB 5.2 MB/s eta 0:00:01\n",
      "   ---------------------------------- ----- 10.4/12.1 MB 5.7 MB/s eta 0:00:01\n",
      "   ------------------------------------ --- 11.0/12.1 MB 6.5 MB/s eta 0:00:01\n",
      "   -------------------------------------- - 11.7/12.1 MB 7.4 MB/s eta 0:00:01\n",
      "   ---------------------------------------- 12.1/12.1 MB 7.9 MB/s eta 0:00:00\n",
      "Downloading matplotlib-3.8.3-cp311-cp311-win_amd64.whl (7.6 MB)\n",
      "   ---------------------------------------- 0.0/7.6 MB ? eta -:--:--\n",
      "   --- ------------------------------------ 0.7/7.6 MB 21.5 MB/s eta 0:00:01\n",
      "   ------- -------------------------------- 1.4/7.6 MB 18.0 MB/s eta 0:00:01\n",
      "   ----------- ---------------------------- 2.2/7.6 MB 17.7 MB/s eta 0:00:01\n",
      "   --------------- ------------------------ 3.0/7.6 MB 17.6 MB/s eta 0:00:01\n",
      "   ------------------- -------------------- 3.7/7.6 MB 17.1 MB/s eta 0:00:01\n",
      "   ------------------------ --------------- 4.7/7.6 MB 17.7 MB/s eta 0:00:01\n",
      "   ---------------------------- ----------- 5.5/7.6 MB 17.7 MB/s eta 0:00:01\n",
      "   ---------------------------------- ----- 6.5/7.6 MB 18.1 MB/s eta 0:00:01\n",
      "   ---------------------------------------  7.5/7.6 MB 18.5 MB/s eta 0:00:01\n",
      "   ---------------------------------------- 7.6/7.6 MB 18.1 MB/s eta 0:00:00\n",
      "Downloading scikit_learn-1.4.1.post1-cp311-cp311-win_amd64.whl (10.6 MB)\n",
      "   ---------------------------------------- 0.0/10.6 MB ? eta -:--:--\n",
      "   --- ------------------------------------ 1.0/10.6 MB 33.0 MB/s eta 0:00:01\n",
      "   ------- -------------------------------- 1.9/10.6 MB 23.9 MB/s eta 0:00:01\n",
      "   --------- ------------------------------ 2.6/10.6 MB 20.7 MB/s eta 0:00:01\n",
      "   -------------- ------------------------- 3.9/10.6 MB 22.3 MB/s eta 0:00:01\n",
      "   ---------------- ----------------------- 4.5/10.6 MB 24.0 MB/s eta 0:00:01\n",
      "   ----------------- ---------------------- 4.5/10.6 MB 19.3 MB/s eta 0:00:01\n",
      "   ----------------- ---------------------- 4.5/10.6 MB 16.1 MB/s eta 0:00:01\n",
      "   ----------------- ---------------------- 4.6/10.6 MB 13.2 MB/s eta 0:00:01\n",
      "   ----------------- ---------------------- 4.6/10.6 MB 11.7 MB/s eta 0:00:01\n",
      "   ------------------- -------------------- 5.2/10.6 MB 11.5 MB/s eta 0:00:01\n",
      "   ------------------------ --------------- 6.6/10.6 MB 13.1 MB/s eta 0:00:01\n",
      "   ------------------------------ --------- 8.1/10.6 MB 14.8 MB/s eta 0:00:01\n",
      "   --------------------------------- ------ 8.9/10.6 MB 15.4 MB/s eta 0:00:01\n",
      "   ---------------------------------------  10.6/10.6 MB 16.8 MB/s eta 0:00:01\n",
      "   ---------------------------------------- 10.6/10.6 MB 15.9 MB/s eta 0:00:00\n",
      "Using cached scipy-1.12.0-cp311-cp311-win_amd64.whl (46.2 MB)\n",
      "Downloading catalogue-2.0.10-py3-none-any.whl (17 kB)\n",
      "Using cached contourpy-1.2.0-cp311-cp311-win_amd64.whl (187 kB)\n",
      "Using cached cycler-0.12.1-py3-none-any.whl (8.3 kB)\n",
      "Downloading cymem-2.0.8-cp311-cp311-win_amd64.whl (39 kB)\n",
      "Downloading fonttools-4.49.0-cp311-cp311-win_amd64.whl (2.2 MB)\n",
      "   ---------------------------------------- 0.0/2.2 MB ? eta -:--:--\n",
      "   -------------------------------- ------- 1.8/2.2 MB 37.5 MB/s eta 0:00:01\n",
      "   ---------------------------------------- 2.2/2.2 MB 27.9 MB/s eta 0:00:00\n",
      "Using cached joblib-1.3.2-py3-none-any.whl (302 kB)\n",
      "Using cached kiwisolver-1.4.5-cp311-cp311-win_amd64.whl (56 kB)\n",
      "Downloading langcodes-3.3.0-py3-none-any.whl (181 kB)\n",
      "   ---------------------------------------- 0.0/181.6 kB ? eta -:--:--\n",
      "   --------------------------------------- 181.6/181.6 kB 10.7 MB/s eta 0:00:00\n",
      "Downloading murmurhash-1.0.10-cp311-cp311-win_amd64.whl (25 kB)\n",
      "Downloading preshed-3.0.9-cp311-cp311-win_amd64.whl (122 kB)\n",
      "   ---------------------------------------- 0.0/122.3 kB ? eta -:--:--\n",
      "   ---------------------------------------- 122.3/122.3 kB 7.0 MB/s eta 0:00:00\n",
      "Downloading pydantic-2.6.3-py3-none-any.whl (395 kB)\n",
      "   ---------------------------------------- 0.0/395.2 kB ? eta -:--:--\n",
      "   --------------------------------------- 395.2/395.2 kB 12.4 MB/s eta 0:00:00\n",
      "Downloading pydantic_core-2.16.3-cp311-none-win_amd64.whl (1.9 MB)\n",
      "   ---------------------------------------- 0.0/1.9 MB ? eta -:--:--\n",
      "   --------------------------------- ------ 1.6/1.9 MB 32.9 MB/s eta 0:00:01\n",
      "   ---------------------------------------- 1.9/1.9 MB 29.7 MB/s eta 0:00:00\n",
      "Downloading pyparsing-3.1.2-py3-none-any.whl (103 kB)\n",
      "   ---------------------------------------- 0.0/103.2 kB ? eta -:--:--\n",
      "   ---------------------------------------- 103.2/103.2 kB 3.0 MB/s eta 0:00:00\n",
      "Downloading smart_open-6.4.0-py3-none-any.whl (57 kB)\n",
      "   ---------------------------------------- 0.0/57.0 kB ? eta -:--:--\n",
      "   ---------------------------------------- 57.0/57.0 kB 1.5 MB/s eta 0:00:00\n",
      "Downloading spacy_legacy-3.0.12-py2.py3-none-any.whl (29 kB)\n",
      "Downloading spacy_loggers-1.0.5-py3-none-any.whl (22 kB)\n",
      "Downloading srsly-2.4.8-cp311-cp311-win_amd64.whl (479 kB)\n",
      "   ---------------------------------------- 0.0/479.7 kB ? eta -:--:--\n",
      "   --------------------------------------- 479.7/479.7 kB 31.3 MB/s eta 0:00:00\n",
      "Downloading thinc-8.2.3-cp311-cp311-win_amd64.whl (1.5 MB)\n",
      "   ---------------------------------------- 0.0/1.5 MB ? eta -:--:--\n",
      "   ------------------------------- -------- 1.2/1.5 MB 37.3 MB/s eta 0:00:01\n",
      "   ---------------------------------------- 1.5/1.5 MB 23.3 MB/s eta 0:00:00\n",
      "Using cached threadpoolctl-3.3.0-py3-none-any.whl (17 kB)\n",
      "Using cached tqdm-4.66.2-py3-none-any.whl (78 kB)\n",
      "Downloading typer-0.9.0-py3-none-any.whl (45 kB)\n",
      "   ---------------------------------------- 0.0/45.9 kB ? eta -:--:--\n",
      "   ---------------------------------------- 45.9/45.9 kB 1.1 MB/s eta 0:00:00\n",
      "Downloading wasabi-1.1.2-py3-none-any.whl (27 kB)\n",
      "Downloading weasel-0.3.4-py3-none-any.whl (50 kB)\n",
      "   ---------------------------------------- 0.0/50.1 kB ? eta -:--:--\n",
      "   ---------------------------------------- 50.1/50.1 kB 2.5 MB/s eta 0:00:00\n",
      "Using cached fsspec-2024.2.0-py3-none-any.whl (170 kB)\n",
      "Downloading annotated_types-0.6.0-py3-none-any.whl (12 kB)\n",
      "Downloading blis-0.7.11-cp311-cp311-win_amd64.whl (6.6 MB)\n",
      "   ---------------------------------------- 0.0/6.6 MB ? eta -:--:--\n",
      "   ---------------------------------------- 0.1/6.6 MB 1.6 MB/s eta 0:00:05\n",
      "    --------------------------------------- 0.1/6.6 MB 1.7 MB/s eta 0:00:04\n",
      "   - -------------------------------------- 0.2/6.6 MB 1.7 MB/s eta 0:00:04\n",
      "   - -------------------------------------- 0.3/6.6 MB 1.8 MB/s eta 0:00:04\n",
      "   -- ------------------------------------- 0.4/6.6 MB 1.8 MB/s eta 0:00:04\n",
      "   --- ------------------------------------ 0.5/6.6 MB 1.9 MB/s eta 0:00:04\n",
      "   --- ------------------------------------ 0.6/6.6 MB 1.9 MB/s eta 0:00:04\n",
      "   ---- ----------------------------------- 0.7/6.6 MB 1.9 MB/s eta 0:00:04\n",
      "   ---- ----------------------------------- 0.8/6.6 MB 2.0 MB/s eta 0:00:03\n",
      "   ----- ---------------------------------- 0.9/6.6 MB 2.0 MB/s eta 0:00:03\n",
      "   ------ --------------------------------- 1.0/6.6 MB 2.1 MB/s eta 0:00:03\n",
      "   ------- -------------------------------- 1.2/6.6 MB 2.1 MB/s eta 0:00:03\n",
      "   ------- -------------------------------- 1.3/6.6 MB 2.2 MB/s eta 0:00:03\n",
      "   -------- ------------------------------- 1.5/6.6 MB 2.3 MB/s eta 0:00:03\n",
      "   --------- ------------------------------ 1.6/6.6 MB 2.3 MB/s eta 0:00:03\n",
      "   ---------- ----------------------------- 1.8/6.6 MB 2.4 MB/s eta 0:00:03\n",
      "   ----------- ---------------------------- 1.9/6.6 MB 2.4 MB/s eta 0:00:02\n",
      "   ------------ --------------------------- 2.1/6.6 MB 2.5 MB/s eta 0:00:02\n",
      "   ------------- -------------------------- 2.2/6.6 MB 2.5 MB/s eta 0:00:02\n",
      "   -------------- ------------------------- 2.4/6.6 MB 2.6 MB/s eta 0:00:02\n",
      "   --------------- ------------------------ 2.6/6.6 MB 2.7 MB/s eta 0:00:02\n",
      "   ---------------- ----------------------- 2.8/6.6 MB 2.7 MB/s eta 0:00:02\n",
      "   ------------------ --------------------- 3.0/6.6 MB 2.8 MB/s eta 0:00:02\n",
      "   ------------------- -------------------- 3.2/6.6 MB 2.9 MB/s eta 0:00:02\n",
      "   -------------------- ------------------- 3.4/6.6 MB 2.9 MB/s eta 0:00:02\n",
      "   ---------------------- ----------------- 3.7/6.6 MB 3.0 MB/s eta 0:00:01\n",
      "   ----------------------- ---------------- 3.9/6.6 MB 3.1 MB/s eta 0:00:01\n",
      "   ------------------------- -------------- 4.2/6.6 MB 3.2 MB/s eta 0:00:01\n",
      "   --------------------------- ------------ 4.5/6.6 MB 3.3 MB/s eta 0:00:01\n",
      "   ---------------------------- ----------- 4.8/6.6 MB 3.4 MB/s eta 0:00:01\n",
      "   ------------------------------ --------- 5.1/6.6 MB 3.5 MB/s eta 0:00:01\n",
      "   -------------------------------- ------- 5.4/6.6 MB 3.6 MB/s eta 0:00:01\n",
      "   ---------------------------------- ----- 5.7/6.6 MB 3.8 MB/s eta 0:00:01\n",
      "   ------------------------------------ --- 6.1/6.6 MB 3.9 MB/s eta 0:00:01\n",
      "   ---------------------------------------  6.5/6.6 MB 4.0 MB/s eta 0:00:01\n",
      "   ---------------------------------------- 6.6/6.6 MB 4.0 MB/s eta 0:00:00\n",
      "Downloading click-8.1.7-py3-none-any.whl (97 kB)\n",
      "   ---------------------------------------- 0.0/97.9 kB ? eta -:--:--\n",
      "   ---------------------------------------- 97.9/97.9 kB 2.8 MB/s eta 0:00:00\n",
      "Downloading cloudpathlib-0.16.0-py3-none-any.whl (45 kB)\n",
      "   ---------------------------------------- 0.0/45.0 kB ? eta -:--:--\n",
      "   ---------------------------------------- 45.0/45.0 kB 2.3 MB/s eta 0:00:00\n",
      "Downloading confection-0.1.4-py3-none-any.whl (35 kB)\n",
      "Installing collected packages: cymem, wasabi, tqdm, threadpoolctl, spacy-loggers, spacy-legacy, smart-open, scipy, pyparsing, pydantic-core, murmurhash, langcodes, kiwisolver, joblib, fsspec, fonttools, fastprogress, fastcore, cycler, contourpy, cloudpathlib, click, catalogue, blis, annotated-types, typer, srsly, scikit-learn, pydantic, preshed, matplotlib, fastdownload, confection, weasel, thinc, spacy, fastai\n",
      "Successfully installed annotated-types-0.6.0 blis-0.7.11 catalogue-2.0.10 click-8.1.7 cloudpathlib-0.16.0 confection-0.1.4 contourpy-1.2.0 cycler-0.12.1 cymem-2.0.8 fastai-2.7.14 fastcore-1.5.29 fastdownload-0.0.7 fastprogress-1.0.3 fonttools-4.49.0 fsspec-2024.2.0 joblib-1.3.2 kiwisolver-1.4.5 langcodes-3.3.0 matplotlib-3.8.3 murmurhash-1.0.10 preshed-3.0.9 pydantic-2.6.3 pydantic-core-2.16.3 pyparsing-3.1.2 scikit-learn-1.4.1.post1 scipy-1.12.0 smart-open-6.4.0 spacy-3.7.4 spacy-legacy-3.0.12 spacy-loggers-1.0.5 srsly-2.4.8 thinc-8.2.3 threadpoolctl-3.3.0 tqdm-4.66.2 typer-0.9.0 wasabi-1.1.2 weasel-0.3.4\n"
     ]
    }
   ],
   "source": [
    "# installing/upgrading fastai2 \n",
    "!pip install --upgrade fastai"
   ]
  },
  {
   "cell_type": "code",
   "execution_count": 7,
   "metadata": {},
   "outputs": [],
   "source": [
    "%matplotlib inline\n",
    "from fastai import *\n",
    "from fastai.vision import *\n",
    "from fastai.vision.all import *\n",
    "\n",
    "torch.backends.cudnn.benchmark = True"
   ]
  },
  {
   "cell_type": "code",
   "execution_count": 2,
   "metadata": {},
   "outputs": [
    {
     "data": {
      "text/plain": [
       "True"
      ]
     },
     "execution_count": 2,
     "metadata": {},
     "output_type": "execute_result"
    }
   ],
   "source": [
    "# Test to ensure that my cuda is still visible\n",
    "import torch as torch\n",
    "torch.cuda.is_available()"
   ]
  },
  {
   "cell_type": "code",
   "execution_count": 3,
   "metadata": {},
   "outputs": [
    {
     "data": {
      "text/plain": [
       "0"
      ]
     },
     "execution_count": 3,
     "metadata": {},
     "output_type": "execute_result"
    }
   ],
   "source": [
    "torch.cuda.set_device(0)\n",
    "torch.cuda.current_device()"
   ]
  },
  {
   "cell_type": "code",
   "execution_count": 5,
   "metadata": {},
   "outputs": [
    {
     "data": {
      "text/plain": [
       "'NVIDIA GeForce GTX 1080 Ti'"
      ]
     },
     "execution_count": 5,
     "metadata": {},
     "output_type": "execute_result"
    }
   ],
   "source": [
    "torch.cuda.get_device_name(0)"
   ]
  },
  {
   "cell_type": "code",
   "execution_count": 8,
   "metadata": {},
   "outputs": [
    {
     "data": {
      "text/html": [
       "\n",
       "<style>\n",
       "    /* Turns off some styling */\n",
       "    progress {\n",
       "        /* gets rid of default border in Firefox and Opera. */\n",
       "        border: none;\n",
       "        /* Needs to be in here for Safari polyfill so background images work as expected. */\n",
       "        background-size: auto;\n",
       "    }\n",
       "    progress:not([value]), progress:not([value])::-webkit-progress-bar {\n",
       "        background: repeating-linear-gradient(45deg, #7e7e7e, #7e7e7e 10px, #5c5c5c 10px, #5c5c5c 20px);\n",
       "    }\n",
       "    .progress-bar-interrupted, .progress-bar-interrupted::-webkit-progress-bar {\n",
       "        background: #F44336;\n",
       "    }\n",
       "</style>\n"
      ],
      "text/plain": [
       "<IPython.core.display.HTML object>"
      ]
     },
     "metadata": {},
     "output_type": "display_data"
    },
    {
     "data": {
      "text/html": [
       "\n",
       "    <div>\n",
       "      <progress value='168173568' class='' max='168168549' style='width:300px; height:20px; vertical-align: middle;'></progress>\n",
       "      100.00% [168173568/168168549 00:31&lt;00:00]\n",
       "    </div>\n",
       "    "
      ],
      "text/plain": [
       "<IPython.core.display.HTML object>"
      ]
     },
     "metadata": {},
     "output_type": "display_data"
    },
    {
     "data": {
      "text/plain": [
       "Path('C:/Users/ron-w/.fastai/data/cifar10')"
      ]
     },
     "execution_count": 8,
     "metadata": {},
     "output_type": "execute_result"
    }
   ],
   "source": [
    "path = untar_data(URLs.CIFAR)\n",
    "path"
   ]
  },
  {
   "cell_type": "code",
   "execution_count": 9,
   "metadata": {},
   "outputs": [],
   "source": [
    "bs = 256"
   ]
  },
  {
   "cell_type": "code",
   "execution_count": 15,
   "metadata": {},
   "outputs": [],
   "source": [
    "ds_tfms = ([OldRandomCrop(4, 32), FlipItem(p=0.5)], [])\n",
    "data = ImageDataLoaders.from_folder(path, valid='test', item_tfms=ds_tfms, bs=bs)"
   ]
  },
  {
   "cell_type": "code",
   "execution_count": 27,
   "metadata": {},
   "outputs": [],
   "source": [
    "learn = Learner(data, xresnet152(pretrained=True), metrics=accuracy)"
   ]
  },
  {
   "cell_type": "markdown",
   "metadata": {},
   "source": [
    "**Fit One Cycle**\n",
    "Good info on fit_one_cycle: https://iconof.com/1cycle-learning-rate-policy/\n",
    "https://sgugger.github.io/the-1cycle-policy.html\n",
    "https://fastai.github.io/fastbook2e/accel_sgd.html\n",
    "\n",
    "Changed the model to xresnet152, and using pretrained=True, 15 epochs, adding momentum"
   ]
  },
  {
   "cell_type": "code",
   "execution_count": 28,
   "metadata": {},
   "outputs": [
    {
     "data": {
      "text/html": [
       "\n",
       "<style>\n",
       "    /* Turns off some styling */\n",
       "    progress {\n",
       "        /* gets rid of default border in Firefox and Opera. */\n",
       "        border: none;\n",
       "        /* Needs to be in here for Safari polyfill so background images work as expected. */\n",
       "        background-size: auto;\n",
       "    }\n",
       "    progress:not([value]), progress:not([value])::-webkit-progress-bar {\n",
       "        background: repeating-linear-gradient(45deg, #7e7e7e, #7e7e7e 10px, #5c5c5c 10px, #5c5c5c 20px);\n",
       "    }\n",
       "    .progress-bar-interrupted, .progress-bar-interrupted::-webkit-progress-bar {\n",
       "        background: #F44336;\n",
       "    }\n",
       "</style>\n"
      ],
      "text/plain": [
       "<IPython.core.display.HTML object>"
      ]
     },
     "metadata": {},
     "output_type": "display_data"
    },
    {
     "data": {
      "text/html": [],
      "text/plain": [
       "<IPython.core.display.HTML object>"
      ]
     },
     "metadata": {},
     "output_type": "display_data"
    },
    {
     "data": {
      "text/plain": [
       "SuggestedLRs(valley=0.0005754399462603033)"
      ]
     },
     "execution_count": 28,
     "metadata": {},
     "output_type": "execute_result"
    },
    {
     "data": {
      "image/png": "[encoded data removed]",
      "text/plain": [
       "<Figure size 640x480 with 1 Axes>"
      ]
     },
     "metadata": {},
     "output_type": "display_data"
    }
   ],
   "source": [
    "learn.lr_find()"
   ]
  },
  {
   "cell_type": "code",
   "execution_count": 30,
   "metadata": {},
   "outputs": [
    {
     "data": {
      "text/html": [
       "\n",
       "<style>\n",
       "    /* Turns off some styling */\n",
       "    progress {\n",
       "        /* gets rid of default border in Firefox and Opera. */\n",
       "        border: none;\n",
       "        /* Needs to be in here for Safari polyfill so background images work as expected. */\n",
       "        background-size: auto;\n",
       "    }\n",
       "    progress:not([value]), progress:not([value])::-webkit-progress-bar {\n",
       "        background: repeating-linear-gradient(45deg, #7e7e7e, #7e7e7e 10px, #5c5c5c 10px, #5c5c5c 20px);\n",
       "    }\n",
       "    .progress-bar-interrupted, .progress-bar-interrupted::-webkit-progress-bar {\n",
       "        background: #F44336;\n",
       "    }\n",
       "</style>\n"
      ],
      "text/plain": [
       "<IPython.core.display.HTML object>"
      ]
     },
     "metadata": {},
     "output_type": "display_data"
    },
    {
     "data": {
      "text/html": [
       "<table border=\"1\" class=\"dataframe\">\n",
       "  <thead>\n",
       "    <tr style=\"text-align: left;\">\n",
       "      <th>epoch</th>\n",
       "      <th>train_loss</th>\n",
       "      <th>valid_loss</th>\n",
       "      <th>accuracy</th>\n",
       "      <th>time</th>\n",
       "    </tr>\n",
       "  </thead>\n",
       "  <tbody>\n",
       "    <tr>\n",
       "      <td>0</td>\n",
       "      <td>1.353481</td>\n",
       "      <td>1.153646</td>\n",
       "      <td>0.601100</td>\n",
       "      <td>01:39</td>\n",
       "    </tr>\n",
       "    <tr>\n",
       "      <td>1</td>\n",
       "      <td>0.891935</td>\n",
       "      <td>0.902271</td>\n",
       "      <td>0.681300</td>\n",
       "      <td>01:38</td>\n",
       "    </tr>\n",
       "    <tr>\n",
       "      <td>2</td>\n",
       "      <td>0.683680</td>\n",
       "      <td>0.808143</td>\n",
       "      <td>0.718000</td>\n",
       "      <td>01:39</td>\n",
       "    </tr>\n",
       "    <tr>\n",
       "      <td>3</td>\n",
       "      <td>0.513223</td>\n",
       "      <td>0.864587</td>\n",
       "      <td>0.718900</td>\n",
       "      <td>01:41</td>\n",
       "    </tr>\n",
       "    <tr>\n",
       "      <td>4</td>\n",
       "      <td>0.379441</td>\n",
       "      <td>0.839439</td>\n",
       "      <td>0.739300</td>\n",
       "      <td>01:39</td>\n",
       "    </tr>\n",
       "    <tr>\n",
       "      <td>5</td>\n",
       "      <td>0.311203</td>\n",
       "      <td>1.017114</td>\n",
       "      <td>0.723600</td>\n",
       "      <td>01:39</td>\n",
       "    </tr>\n",
       "    <tr>\n",
       "      <td>6</td>\n",
       "      <td>0.271874</td>\n",
       "      <td>0.985147</td>\n",
       "      <td>0.742200</td>\n",
       "      <td>01:38</td>\n",
       "    </tr>\n",
       "    <tr>\n",
       "      <td>7</td>\n",
       "      <td>0.225110</td>\n",
       "      <td>1.349582</td>\n",
       "      <td>0.687300</td>\n",
       "      <td>01:38</td>\n",
       "    </tr>\n",
       "    <tr>\n",
       "      <td>8</td>\n",
       "      <td>0.174015</td>\n",
       "      <td>0.935169</td>\n",
       "      <td>0.758400</td>\n",
       "      <td>01:38</td>\n",
       "    </tr>\n",
       "    <tr>\n",
       "      <td>9</td>\n",
       "      <td>0.103014</td>\n",
       "      <td>1.148061</td>\n",
       "      <td>0.738500</td>\n",
       "      <td>01:38</td>\n",
       "    </tr>\n",
       "    <tr>\n",
       "      <td>10</td>\n",
       "      <td>0.055803</td>\n",
       "      <td>1.075957</td>\n",
       "      <td>0.765400</td>\n",
       "      <td>01:38</td>\n",
       "    </tr>\n",
       "    <tr>\n",
       "      <td>11</td>\n",
       "      <td>0.018910</td>\n",
       "      <td>0.956039</td>\n",
       "      <td>0.795200</td>\n",
       "      <td>01:38</td>\n",
       "    </tr>\n",
       "    <tr>\n",
       "      <td>12</td>\n",
       "      <td>0.003616</td>\n",
       "      <td>0.889747</td>\n",
       "      <td>0.813000</td>\n",
       "      <td>01:38</td>\n",
       "    </tr>\n",
       "    <tr>\n",
       "      <td>13</td>\n",
       "      <td>0.000860</td>\n",
       "      <td>0.887723</td>\n",
       "      <td>0.815300</td>\n",
       "      <td>01:38</td>\n",
       "    </tr>\n",
       "    <tr>\n",
       "      <td>14</td>\n",
       "      <td>0.000476</td>\n",
       "      <td>0.889777</td>\n",
       "      <td>0.815700</td>\n",
       "      <td>01:38</td>\n",
       "    </tr>\n",
       "  </tbody>\n",
       "</table>"
      ],
      "text/plain": [
       "<IPython.core.display.HTML object>"
      ]
     },
     "metadata": {},
     "output_type": "display_data"
    }
   ],
   "source": [
    "learn.fit_one_cycle(15, 0.000575439, wd=0.4, div=10, pct_start=0.5)"
   ]
  }
 ],
 "metadata": {
  "kernelspec": {
   "display_name": "Python (cuda)",
   "language": "python",
   "name": "cuda_test"
  },
  "language_info": {
   "codemirror_mode": {
    "name": "ipython",
    "version": 3
   },
   "file_extension": ".py",
   "mimetype": "text/x-python",
   "name": "python",
   "nbconvert_exporter": "python",
   "pygments_lexer": "ipython3",
   "version": "3.11.8"
  }
 },
 "nbformat": 4,
 "nbformat_minor": 4
}
