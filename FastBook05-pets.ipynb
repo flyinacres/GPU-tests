{
 "cells": [
  {
   "cell_type": "markdown",
   "id": "04a61ca8-e48a-436f-92ec-03d93fa96311",
   "metadata": {},
   "source": [
    "**FastAI book chapter 5, Pet Breeds**\n",
    "Image classification, attempting to get it to run on my GTX 1080Ti"
   ]
  },
  {
   "cell_type": "markdown",
   "id": "e1dd979e-2aae-4f8d-a139-ff4fd58ea2fd",
   "metadata": {},
   "source": [
    "Need to install fastai.  Probably could add this to the conda environment if I find that I need to do this often"
   ]
  },
  {
   "cell_type": "code",
   "execution_count": 1,
   "id": "b218e639-43b8-41dd-b4c2-37632b92301c",
   "metadata": {},
   "outputs": [
    {
     "name": "stdout",
     "output_type": "stream",
     "text": [
      "Requirement already satisfied: fastai in d:\\dev\\anaconda\\envs\\cuda_test\\lib\\site-packages (2.7.14)\n",
      "Requirement already satisfied: pip in d:\\dev\\anaconda\\envs\\cuda_test\\lib\\site-packages (from fastai) (23.3.1)\n",
      "Requirement already satisfied: packaging in d:\\dev\\anaconda\\envs\\cuda_test\\lib\\site-packages (from fastai) (23.1)\n",
      "Requirement already satisfied: fastdownload<2,>=0.0.5 in d:\\dev\\anaconda\\envs\\cuda_test\\lib\\site-packages (from fastai) (0.0.7)\n",
      "Requirement already satisfied: fastcore<1.6,>=1.5.29 in d:\\dev\\anaconda\\envs\\cuda_test\\lib\\site-packages (from fastai) (1.5.29)\n",
      "Requirement already satisfied: torchvision>=0.11 in d:\\dev\\anaconda\\envs\\cuda_test\\lib\\site-packages (from fastai) (0.16.1)\n",
      "Requirement already satisfied: matplotlib in d:\\dev\\anaconda\\envs\\cuda_test\\lib\\site-packages (from fastai) (3.8.3)\n",
      "Requirement already satisfied: pandas in d:\\dev\\anaconda\\envs\\cuda_test\\lib\\site-packages (from fastai) (2.2.1)\n",
      "Requirement already satisfied: requests in d:\\dev\\anaconda\\envs\\cuda_test\\lib\\site-packages (from fastai) (2.31.0)\n",
      "Requirement already satisfied: pyyaml in d:\\dev\\anaconda\\envs\\cuda_test\\lib\\site-packages (from fastai) (6.0.1)\n",
      "Requirement already satisfied: fastprogress>=0.2.4 in d:\\dev\\anaconda\\envs\\cuda_test\\lib\\site-packages (from fastai) (1.0.3)\n",
      "Requirement already satisfied: pillow>=9.0.0 in d:\\dev\\anaconda\\envs\\cuda_test\\lib\\site-packages (from fastai) (10.2.0)\n",
      "Requirement already satisfied: scikit-learn in d:\\dev\\anaconda\\envs\\cuda_test\\lib\\site-packages (from fastai) (1.4.1.post1)\n",
      "Requirement already satisfied: scipy in d:\\dev\\anaconda\\envs\\cuda_test\\lib\\site-packages (from fastai) (1.12.0)\n",
      "Requirement already satisfied: spacy<4 in d:\\dev\\anaconda\\envs\\cuda_test\\lib\\site-packages (from fastai) (3.7.4)\n",
      "Requirement already satisfied: torch<2.3,>=1.10 in d:\\dev\\anaconda\\envs\\cuda_test\\lib\\site-packages (from fastai) (2.1.1)\n",
      "Requirement already satisfied: spacy-legacy<3.1.0,>=3.0.11 in d:\\dev\\anaconda\\envs\\cuda_test\\lib\\site-packages (from spacy<4->fastai) (3.0.12)\n",
      "Requirement already satisfied: spacy-loggers<2.0.0,>=1.0.0 in d:\\dev\\anaconda\\envs\\cuda_test\\lib\\site-packages (from spacy<4->fastai) (1.0.5)\n",
      "Requirement already satisfied: murmurhash<1.1.0,>=0.28.0 in d:\\dev\\anaconda\\envs\\cuda_test\\lib\\site-packages (from spacy<4->fastai) (1.0.10)\n",
      "Requirement already satisfied: cymem<2.1.0,>=2.0.2 in d:\\dev\\anaconda\\envs\\cuda_test\\lib\\site-packages (from spacy<4->fastai) (2.0.8)\n",
      "Requirement already satisfied: preshed<3.1.0,>=3.0.2 in d:\\dev\\anaconda\\envs\\cuda_test\\lib\\site-packages (from spacy<4->fastai) (3.0.9)\n",
      "Requirement already satisfied: thinc<8.3.0,>=8.2.2 in d:\\dev\\anaconda\\envs\\cuda_test\\lib\\site-packages (from spacy<4->fastai) (8.2.3)\n",
      "Requirement already satisfied: wasabi<1.2.0,>=0.9.1 in d:\\dev\\anaconda\\envs\\cuda_test\\lib\\site-packages (from spacy<4->fastai) (1.1.2)\n",
      "Requirement already satisfied: srsly<3.0.0,>=2.4.3 in d:\\dev\\anaconda\\envs\\cuda_test\\lib\\site-packages (from spacy<4->fastai) (2.4.8)\n",
      "Requirement already satisfied: catalogue<2.1.0,>=2.0.6 in d:\\dev\\anaconda\\envs\\cuda_test\\lib\\site-packages (from spacy<4->fastai) (2.0.10)\n",
      "Requirement already satisfied: weasel<0.4.0,>=0.1.0 in d:\\dev\\anaconda\\envs\\cuda_test\\lib\\site-packages (from spacy<4->fastai) (0.3.4)\n",
      "Requirement already satisfied: typer<0.10.0,>=0.3.0 in d:\\dev\\anaconda\\envs\\cuda_test\\lib\\site-packages (from spacy<4->fastai) (0.9.0)\n",
      "Requirement already satisfied: smart-open<7.0.0,>=5.2.1 in d:\\dev\\anaconda\\envs\\cuda_test\\lib\\site-packages (from spacy<4->fastai) (6.4.0)\n",
      "Requirement already satisfied: tqdm<5.0.0,>=4.38.0 in d:\\dev\\anaconda\\envs\\cuda_test\\lib\\site-packages (from spacy<4->fastai) (4.66.2)\n",
      "Requirement already satisfied: pydantic!=1.8,!=1.8.1,<3.0.0,>=1.7.4 in d:\\dev\\anaconda\\envs\\cuda_test\\lib\\site-packages (from spacy<4->fastai) (2.6.3)\n",
      "Requirement already satisfied: jinja2 in d:\\dev\\anaconda\\envs\\cuda_test\\lib\\site-packages (from spacy<4->fastai) (3.1.3)\n",
      "Requirement already satisfied: setuptools in d:\\dev\\anaconda\\envs\\cuda_test\\lib\\site-packages (from spacy<4->fastai) (68.2.2)\n",
      "Requirement already satisfied: langcodes<4.0.0,>=3.2.0 in d:\\dev\\anaconda\\envs\\cuda_test\\lib\\site-packages (from spacy<4->fastai) (3.3.0)\n",
      "Requirement already satisfied: numpy>=1.19.0 in d:\\dev\\anaconda\\envs\\cuda_test\\lib\\site-packages (from spacy<4->fastai) (1.26.4)\n",
      "Requirement already satisfied: charset-normalizer<4,>=2 in d:\\dev\\anaconda\\envs\\cuda_test\\lib\\site-packages (from requests->fastai) (2.0.4)\n",
      "Requirement already satisfied: idna<4,>=2.5 in d:\\dev\\anaconda\\envs\\cuda_test\\lib\\site-packages (from requests->fastai) (3.4)\n",
      "Requirement already satisfied: urllib3<3,>=1.21.1 in d:\\dev\\anaconda\\envs\\cuda_test\\lib\\site-packages (from requests->fastai) (2.1.0)\n",
      "Requirement already satisfied: certifi>=2017.4.17 in d:\\dev\\anaconda\\envs\\cuda_test\\lib\\site-packages (from requests->fastai) (2024.2.2)\n",
      "Requirement already satisfied: filelock in d:\\dev\\anaconda\\envs\\cuda_test\\lib\\site-packages (from torch<2.3,>=1.10->fastai) (3.13.1)\n",
      "Requirement already satisfied: typing-extensions in d:\\dev\\anaconda\\envs\\cuda_test\\lib\\site-packages (from torch<2.3,>=1.10->fastai) (4.9.0)\n",
      "Requirement already satisfied: sympy in d:\\dev\\anaconda\\envs\\cuda_test\\lib\\site-packages (from torch<2.3,>=1.10->fastai) (1.12)\n",
      "Requirement already satisfied: networkx in d:\\dev\\anaconda\\envs\\cuda_test\\lib\\site-packages (from torch<2.3,>=1.10->fastai) (3.1)\n",
      "Requirement already satisfied: fsspec in d:\\dev\\anaconda\\envs\\cuda_test\\lib\\site-packages (from torch<2.3,>=1.10->fastai) (2024.2.0)\n",
      "Requirement already satisfied: contourpy>=1.0.1 in d:\\dev\\anaconda\\envs\\cuda_test\\lib\\site-packages (from matplotlib->fastai) (1.2.0)\n",
      "Requirement already satisfied: cycler>=0.10 in d:\\dev\\anaconda\\envs\\cuda_test\\lib\\site-packages (from matplotlib->fastai) (0.12.1)\n",
      "Requirement already satisfied: fonttools>=4.22.0 in d:\\dev\\anaconda\\envs\\cuda_test\\lib\\site-packages (from matplotlib->fastai) (4.49.0)\n",
      "Requirement already satisfied: kiwisolver>=1.3.1 in d:\\dev\\anaconda\\envs\\cuda_test\\lib\\site-packages (from matplotlib->fastai) (1.4.5)\n",
      "Requirement already satisfied: pyparsing>=2.3.1 in d:\\dev\\anaconda\\envs\\cuda_test\\lib\\site-packages (from matplotlib->fastai) (3.1.2)\n",
      "Requirement already satisfied: python-dateutil>=2.7 in d:\\dev\\anaconda\\envs\\cuda_test\\lib\\site-packages (from matplotlib->fastai) (2.8.2)\n",
      "Requirement already satisfied: pytz>=2020.1 in d:\\dev\\anaconda\\envs\\cuda_test\\lib\\site-packages (from pandas->fastai) (2023.3.post1)\n",
      "Requirement already satisfied: tzdata>=2022.7 in d:\\dev\\anaconda\\envs\\cuda_test\\lib\\site-packages (from pandas->fastai) (2024.1)\n",
      "Requirement already satisfied: joblib>=1.2.0 in d:\\dev\\anaconda\\envs\\cuda_test\\lib\\site-packages (from scikit-learn->fastai) (1.3.2)\n",
      "Requirement already satisfied: threadpoolctl>=2.0.0 in d:\\dev\\anaconda\\envs\\cuda_test\\lib\\site-packages (from scikit-learn->fastai) (3.3.0)\n",
      "Requirement already satisfied: annotated-types>=0.4.0 in d:\\dev\\anaconda\\envs\\cuda_test\\lib\\site-packages (from pydantic!=1.8,!=1.8.1,<3.0.0,>=1.7.4->spacy<4->fastai) (0.6.0)\n",
      "Requirement already satisfied: pydantic-core==2.16.3 in d:\\dev\\anaconda\\envs\\cuda_test\\lib\\site-packages (from pydantic!=1.8,!=1.8.1,<3.0.0,>=1.7.4->spacy<4->fastai) (2.16.3)\n",
      "Requirement already satisfied: six>=1.5 in d:\\dev\\anaconda\\envs\\cuda_test\\lib\\site-packages (from python-dateutil>=2.7->matplotlib->fastai) (1.16.0)\n",
      "Requirement already satisfied: blis<0.8.0,>=0.7.8 in d:\\dev\\anaconda\\envs\\cuda_test\\lib\\site-packages (from thinc<8.3.0,>=8.2.2->spacy<4->fastai) (0.7.11)\n",
      "Requirement already satisfied: confection<1.0.0,>=0.0.1 in d:\\dev\\anaconda\\envs\\cuda_test\\lib\\site-packages (from thinc<8.3.0,>=8.2.2->spacy<4->fastai) (0.1.4)\n",
      "Requirement already satisfied: colorama in d:\\dev\\anaconda\\envs\\cuda_test\\lib\\site-packages (from tqdm<5.0.0,>=4.38.0->spacy<4->fastai) (0.4.6)\n",
      "Requirement already satisfied: click<9.0.0,>=7.1.1 in d:\\dev\\anaconda\\envs\\cuda_test\\lib\\site-packages (from typer<0.10.0,>=0.3.0->spacy<4->fastai) (8.1.7)\n",
      "Requirement already satisfied: cloudpathlib<0.17.0,>=0.7.0 in d:\\dev\\anaconda\\envs\\cuda_test\\lib\\site-packages (from weasel<0.4.0,>=0.1.0->spacy<4->fastai) (0.16.0)\n",
      "Requirement already satisfied: MarkupSafe>=2.0 in d:\\dev\\anaconda\\envs\\cuda_test\\lib\\site-packages (from jinja2->spacy<4->fastai) (2.1.3)\n",
      "Requirement already satisfied: mpmath>=0.19 in d:\\dev\\anaconda\\envs\\cuda_test\\lib\\site-packages (from sympy->torch<2.3,>=1.10->fastai) (1.3.0)\n"
     ]
    }
   ],
   "source": [
    "# installing/upgrading fastai2 \n",
    "!pip install --upgrade fastai"
   ]
  },
  {
   "cell_type": "code",
   "execution_count": 2,
   "id": "0be19d2a-07ef-46ae-bc8e-8b1f54e55ae1",
   "metadata": {},
   "outputs": [],
   "source": [
    "%matplotlib inline\n",
    "from fastai import *\n",
    "from fastai.vision import *\n",
    "from fastai.vision.all import *"
   ]
  },
  {
   "cell_type": "markdown",
   "id": "a6753442-aea7-4795-9075-7999e58d599e",
   "metadata": {},
   "source": [
    "Check to ensure that my GPU is visible and selectable"
   ]
  },
  {
   "cell_type": "code",
   "execution_count": 3,
   "id": "864afc3a-722e-451f-86fd-68007aac0380",
   "metadata": {},
   "outputs": [
    {
     "data": {
      "text/plain": [
       "True"
      ]
     },
     "execution_count": 3,
     "metadata": {},
     "output_type": "execute_result"
    }
   ],
   "source": [
    "# Test to ensure that my cuda is still visible\n",
    "import torch as torch\n",
    "torch.cuda.is_available()"
   ]
  },
  {
   "cell_type": "code",
   "execution_count": 4,
   "id": "c831476c-bff0-420a-887b-9c49ba11c62d",
   "metadata": {},
   "outputs": [
    {
     "data": {
      "text/plain": [
       "0"
      ]
     },
     "execution_count": 4,
     "metadata": {},
     "output_type": "execute_result"
    }
   ],
   "source": [
    "torch.cuda.set_device(0)\n",
    "torch.cuda.current_device()"
   ]
  },
  {
   "cell_type": "code",
   "execution_count": 5,
   "id": "5bbe5958-04fb-4894-b050-b19a47508c53",
   "metadata": {},
   "outputs": [
    {
     "data": {
      "text/plain": [
       "'NVIDIA GeForce GTX 1080 Ti'"
      ]
     },
     "execution_count": 5,
     "metadata": {},
     "output_type": "execute_result"
    }
   ],
   "source": [
    "torch.cuda.get_device_name(0)"
   ]
  },
  {
   "cell_type": "markdown",
   "id": "5be1ad55-80c1-40d1-8622-6ce6c7f941ed",
   "metadata": {},
   "source": [
    "Now set up the fastbook itself"
   ]
  },
  {
   "cell_type": "code",
   "execution_count": null,
   "id": "19a548e3-b3d5-4b68-bb46-2b46fe6c3512",
   "metadata": {},
   "outputs": [],
   "source": []
  }
 ],
 "metadata": {
  "kernelspec": {
   "display_name": "Python (cuda)",
   "language": "python",
   "name": "cuda_test"
  },
  "language_info": {
   "codemirror_mode": {
    "name": "ipython",
    "version": 3
   },
   "file_extension": ".py",
   "mimetype": "text/x-python",
   "name": "python",
   "nbconvert_exporter": "python",
   "pygments_lexer": "ipython3",
   "version": "3.11.8"
  }
 },
 "nbformat": 4,
 "nbformat_minor": 5
}
