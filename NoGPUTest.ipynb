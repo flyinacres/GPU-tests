{
 "cells": [
  {
   "cell_type": "markdown",
   "id": "6bc5c54f-6f68-4c32-8838-31fbdfc43348",
   "metadata": {},
   "source": [
    "Note this when I try tests on Mac:\n",
    "\n",
    "https://forums.fast.ai/t/how-to-setup-pytorch-and-fastai-on-m1-m2-mac/105466"
   ]
  },
  {
   "cell_type": "code",
   "execution_count": 1,
   "id": "7c8ff5a5-2ae0-496a-9231-58c321b023a0",
   "metadata": {
    "scrolled": true
   },
   "outputs": [
    {
     "name": "stdout",
     "output_type": "stream",
     "text": [
      "Requirement already satisfied: fastai in d:\\dev\\anaconda\\envs\\cuda_test\\lib\\site-packages (2.7.14)\n",
      "Requirement already satisfied: pip in d:\\dev\\anaconda\\envs\\cuda_test\\lib\\site-packages (from fastai) (23.3.1)\n",
      "Requirement already satisfied: packaging in d:\\dev\\anaconda\\envs\\cuda_test\\lib\\site-packages (from fastai) (23.1)\n",
      "Requirement already satisfied: fastdownload<2,>=0.0.5 in d:\\dev\\anaconda\\envs\\cuda_test\\lib\\site-packages (from fastai) (0.0.7)\n",
      "Requirement already satisfied: fastcore<1.6,>=1.5.29 in d:\\dev\\anaconda\\envs\\cuda_test\\lib\\site-packages (from fastai) (1.5.29)\n",
      "Requirement already satisfied: torchvision>=0.11 in d:\\dev\\anaconda\\envs\\cuda_test\\lib\\site-packages (from fastai) (0.16.1)\n",
      "Requirement already satisfied: matplotlib in d:\\dev\\anaconda\\envs\\cuda_test\\lib\\site-packages (from fastai) (3.8.3)\n",
      "Requirement already satisfied: pandas in d:\\dev\\anaconda\\envs\\cuda_test\\lib\\site-packages (from fastai) (2.2.1)\n",
      "Requirement already satisfied: requests in d:\\dev\\anaconda\\envs\\cuda_test\\lib\\site-packages (from fastai) (2.31.0)\n",
      "Requirement already satisfied: pyyaml in d:\\dev\\anaconda\\envs\\cuda_test\\lib\\site-packages (from fastai) (6.0.1)\n",
      "Requirement already satisfied: fastprogress>=0.2.4 in d:\\dev\\anaconda\\envs\\cuda_test\\lib\\site-packages (from fastai) (1.0.3)\n",
      "Requirement already satisfied: pillow>=9.0.0 in d:\\dev\\anaconda\\envs\\cuda_test\\lib\\site-packages (from fastai) (10.2.0)\n",
      "Requirement already satisfied: scikit-learn in d:\\dev\\anaconda\\envs\\cuda_test\\lib\\site-packages (from fastai) (1.4.1.post1)\n",
      "Requirement already satisfied: scipy in d:\\dev\\anaconda\\envs\\cuda_test\\lib\\site-packages (from fastai) (1.12.0)\n",
      "Requirement already satisfied: spacy<4 in d:\\dev\\anaconda\\envs\\cuda_test\\lib\\site-packages (from fastai) (3.7.4)\n",
      "Requirement already satisfied: torch<2.3,>=1.10 in d:\\dev\\anaconda\\envs\\cuda_test\\lib\\site-packages (from fastai) (2.1.1)\n",
      "Requirement already satisfied: spacy-legacy<3.1.0,>=3.0.11 in d:\\dev\\anaconda\\envs\\cuda_test\\lib\\site-packages (from spacy<4->fastai) (3.0.12)\n",
      "Requirement already satisfied: spacy-loggers<2.0.0,>=1.0.0 in d:\\dev\\anaconda\\envs\\cuda_test\\lib\\site-packages (from spacy<4->fastai) (1.0.5)\n",
      "Requirement already satisfied: murmurhash<1.1.0,>=0.28.0 in d:\\dev\\anaconda\\envs\\cuda_test\\lib\\site-packages (from spacy<4->fastai) (1.0.10)\n",
      "Requirement already satisfied: cymem<2.1.0,>=2.0.2 in d:\\dev\\anaconda\\envs\\cuda_test\\lib\\site-packages (from spacy<4->fastai) (2.0.8)\n",
      "Requirement already satisfied: preshed<3.1.0,>=3.0.2 in d:\\dev\\anaconda\\envs\\cuda_test\\lib\\site-packages (from spacy<4->fastai) (3.0.9)\n",
      "Requirement already satisfied: thinc<8.3.0,>=8.2.2 in d:\\dev\\anaconda\\envs\\cuda_test\\lib\\site-packages (from spacy<4->fastai) (8.2.3)\n",
      "Requirement already satisfied: wasabi<1.2.0,>=0.9.1 in d:\\dev\\anaconda\\envs\\cuda_test\\lib\\site-packages (from spacy<4->fastai) (1.1.2)\n",
      "Requirement already satisfied: srsly<3.0.0,>=2.4.3 in d:\\dev\\anaconda\\envs\\cuda_test\\lib\\site-packages (from spacy<4->fastai) (2.4.8)\n",
      "Requirement already satisfied: catalogue<2.1.0,>=2.0.6 in d:\\dev\\anaconda\\envs\\cuda_test\\lib\\site-packages (from spacy<4->fastai) (2.0.10)\n",
      "Requirement already satisfied: weasel<0.4.0,>=0.1.0 in d:\\dev\\anaconda\\envs\\cuda_test\\lib\\site-packages (from spacy<4->fastai) (0.3.4)\n",
      "Requirement already satisfied: typer<0.10.0,>=0.3.0 in d:\\dev\\anaconda\\envs\\cuda_test\\lib\\site-packages (from spacy<4->fastai) (0.9.0)\n",
      "Requirement already satisfied: smart-open<7.0.0,>=5.2.1 in d:\\dev\\anaconda\\envs\\cuda_test\\lib\\site-packages (from spacy<4->fastai) (6.4.0)\n",
      "Requirement already satisfied: tqdm<5.0.0,>=4.38.0 in d:\\dev\\anaconda\\envs\\cuda_test\\lib\\site-packages (from spacy<4->fastai) (4.66.2)\n",
      "Requirement already satisfied: pydantic!=1.8,!=1.8.1,<3.0.0,>=1.7.4 in d:\\dev\\anaconda\\envs\\cuda_test\\lib\\site-packages (from spacy<4->fastai) (2.6.3)\n",
      "Requirement already satisfied: jinja2 in d:\\dev\\anaconda\\envs\\cuda_test\\lib\\site-packages (from spacy<4->fastai) (3.1.3)\n",
      "Requirement already satisfied: setuptools in d:\\dev\\anaconda\\envs\\cuda_test\\lib\\site-packages (from spacy<4->fastai) (68.2.2)\n",
      "Requirement already satisfied: langcodes<4.0.0,>=3.2.0 in d:\\dev\\anaconda\\envs\\cuda_test\\lib\\site-packages (from spacy<4->fastai) (3.3.0)\n",
      "Requirement already satisfied: numpy>=1.19.0 in d:\\dev\\anaconda\\envs\\cuda_test\\lib\\site-packages (from spacy<4->fastai) (1.26.4)\n",
      "Requirement already satisfied: charset-normalizer<4,>=2 in d:\\dev\\anaconda\\envs\\cuda_test\\lib\\site-packages (from requests->fastai) (2.0.4)\n",
      "Requirement already satisfied: idna<4,>=2.5 in d:\\dev\\anaconda\\envs\\cuda_test\\lib\\site-packages (from requests->fastai) (3.4)\n",
      "Requirement already satisfied: urllib3<3,>=1.21.1 in d:\\dev\\anaconda\\envs\\cuda_test\\lib\\site-packages (from requests->fastai) (2.1.0)\n",
      "Requirement already satisfied: certifi>=2017.4.17 in d:\\dev\\anaconda\\envs\\cuda_test\\lib\\site-packages (from requests->fastai) (2024.2.2)\n",
      "Requirement already satisfied: filelock in d:\\dev\\anaconda\\envs\\cuda_test\\lib\\site-packages (from torch<2.3,>=1.10->fastai) (3.13.1)\n",
      "Requirement already satisfied: typing-extensions in d:\\dev\\anaconda\\envs\\cuda_test\\lib\\site-packages (from torch<2.3,>=1.10->fastai) (4.9.0)\n",
      "Requirement already satisfied: sympy in d:\\dev\\anaconda\\envs\\cuda_test\\lib\\site-packages (from torch<2.3,>=1.10->fastai) (1.12)\n",
      "Requirement already satisfied: networkx in d:\\dev\\anaconda\\envs\\cuda_test\\lib\\site-packages (from torch<2.3,>=1.10->fastai) (3.1)\n",
      "Requirement already satisfied: fsspec in d:\\dev\\anaconda\\envs\\cuda_test\\lib\\site-packages (from torch<2.3,>=1.10->fastai) (2024.2.0)\n",
      "Requirement already satisfied: contourpy>=1.0.1 in d:\\dev\\anaconda\\envs\\cuda_test\\lib\\site-packages (from matplotlib->fastai) (1.2.0)\n",
      "Requirement already satisfied: cycler>=0.10 in d:\\dev\\anaconda\\envs\\cuda_test\\lib\\site-packages (from matplotlib->fastai) (0.12.1)\n",
      "Requirement already satisfied: fonttools>=4.22.0 in d:\\dev\\anaconda\\envs\\cuda_test\\lib\\site-packages (from matplotlib->fastai) (4.49.0)\n",
      "Requirement already satisfied: kiwisolver>=1.3.1 in d:\\dev\\anaconda\\envs\\cuda_test\\lib\\site-packages (from matplotlib->fastai) (1.4.5)\n",
      "Requirement already satisfied: pyparsing>=2.3.1 in d:\\dev\\anaconda\\envs\\cuda_test\\lib\\site-packages (from matplotlib->fastai) (3.1.2)\n",
      "Requirement already satisfied: python-dateutil>=2.7 in d:\\dev\\anaconda\\envs\\cuda_test\\lib\\site-packages (from matplotlib->fastai) (2.8.2)\n",
      "Requirement already satisfied: pytz>=2020.1 in d:\\dev\\anaconda\\envs\\cuda_test\\lib\\site-packages (from pandas->fastai) (2023.3.post1)\n",
      "Requirement already satisfied: tzdata>=2022.7 in d:\\dev\\anaconda\\envs\\cuda_test\\lib\\site-packages (from pandas->fastai) (2024.1)\n",
      "Requirement already satisfied: joblib>=1.2.0 in d:\\dev\\anaconda\\envs\\cuda_test\\lib\\site-packages (from scikit-learn->fastai) (1.3.2)\n",
      "Requirement already satisfied: threadpoolctl>=2.0.0 in d:\\dev\\anaconda\\envs\\cuda_test\\lib\\site-packages (from scikit-learn->fastai) (3.3.0)\n",
      "Requirement already satisfied: annotated-types>=0.4.0 in d:\\dev\\anaconda\\envs\\cuda_test\\lib\\site-packages (from pydantic!=1.8,!=1.8.1,<3.0.0,>=1.7.4->spacy<4->fastai) (0.6.0)\n",
      "Requirement already satisfied: pydantic-core==2.16.3 in d:\\dev\\anaconda\\envs\\cuda_test\\lib\\site-packages (from pydantic!=1.8,!=1.8.1,<3.0.0,>=1.7.4->spacy<4->fastai) (2.16.3)\n",
      "Requirement already satisfied: six>=1.5 in d:\\dev\\anaconda\\envs\\cuda_test\\lib\\site-packages (from python-dateutil>=2.7->matplotlib->fastai) (1.16.0)\n",
      "Requirement already satisfied: blis<0.8.0,>=0.7.8 in d:\\dev\\anaconda\\envs\\cuda_test\\lib\\site-packages (from thinc<8.3.0,>=8.2.2->spacy<4->fastai) (0.7.11)\n",
      "Requirement already satisfied: confection<1.0.0,>=0.0.1 in d:\\dev\\anaconda\\envs\\cuda_test\\lib\\site-packages (from thinc<8.3.0,>=8.2.2->spacy<4->fastai) (0.1.4)\n",
      "Requirement already satisfied: colorama in d:\\dev\\anaconda\\envs\\cuda_test\\lib\\site-packages (from tqdm<5.0.0,>=4.38.0->spacy<4->fastai) (0.4.6)\n",
      "Requirement already satisfied: click<9.0.0,>=7.1.1 in d:\\dev\\anaconda\\envs\\cuda_test\\lib\\site-packages (from typer<0.10.0,>=0.3.0->spacy<4->fastai) (8.1.7)\n",
      "Requirement already satisfied: cloudpathlib<0.17.0,>=0.7.0 in d:\\dev\\anaconda\\envs\\cuda_test\\lib\\site-packages (from weasel<0.4.0,>=0.1.0->spacy<4->fastai) (0.16.0)\n",
      "Requirement already satisfied: MarkupSafe>=2.0 in d:\\dev\\anaconda\\envs\\cuda_test\\lib\\site-packages (from jinja2->spacy<4->fastai) (2.1.3)\n",
      "Requirement already satisfied: mpmath>=0.19 in d:\\dev\\anaconda\\envs\\cuda_test\\lib\\site-packages (from sympy->torch<2.3,>=1.10->fastai) (1.3.0)\n"
     ]
    }
   ],
   "source": [
    "# installing/upgrading fastai2 \n",
    "!pip install --upgrade fastai"
   ]
  },
  {
   "cell_type": "code",
   "execution_count": 2,
   "id": "e3879be9-a1d8-4442-b98a-aa72f5233522",
   "metadata": {},
   "outputs": [],
   "source": [
    "%matplotlib inline\n",
    "from fastai import *\n",
    "from fastai.vision import *\n",
    "from fastai.vision.all import *"
   ]
  },
  {
   "cell_type": "code",
   "execution_count": 7,
   "id": "2b15e815-cda3-4566-b0af-f0e4425a238e",
   "metadata": {},
   "outputs": [
    {
     "data": {
      "text/plain": [
       "True"
      ]
     },
     "execution_count": 7,
     "metadata": {},
     "output_type": "execute_result"
    }
   ],
   "source": [
    "import torch as torch\n",
    "torch.device(\"cpu\")\n",
    "torch.cuda.is_available()"
   ]
  },
  {
   "cell_type": "code",
   "execution_count": null,
   "id": "552883ac-dd6f-4328-b830-fd66cde29b61",
   "metadata": {},
   "outputs": [],
   "source": []
  },
  {
   "cell_type": "code",
   "execution_count": null,
   "id": "e945bd0d-bbfd-40b8-87d9-b8d6b5cb38a9",
   "metadata": {},
   "outputs": [],
   "source": []
  },
  {
   "cell_type": "code",
   "execution_count": null,
   "id": "73bfdcd4-3331-4511-a859-6937590f77d4",
   "metadata": {},
   "outputs": [],
   "source": []
  }
 ],
 "metadata": {
  "kernelspec": {
   "display_name": "Python 3 (ipykernel)",
   "language": "python",
   "name": "python3"
  },
  "language_info": {
   "codemirror_mode": {
    "name": "ipython",
    "version": 3
   },
   "file_extension": ".py",
   "mimetype": "text/x-python",
   "name": "python",
   "nbconvert_exporter": "python",
   "pygments_lexer": "ipython3",
   "version": "3.11.8"
  }
 },
 "nbformat": 4,
 "nbformat_minor": 5
}
